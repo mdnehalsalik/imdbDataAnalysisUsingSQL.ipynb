{
  "nbformat": 4,
  "nbformat_minor": 0,
  "metadata": {
    "colab": {
      "provenance": [],
      "collapsed_sections": [],
      "toc_visible": true
    },
    "kernelspec": {
      "name": "python3",
      "display_name": "Python 3"
    }
  },
  "cells": [
    {
      "cell_type": "markdown",
      "metadata": {
        "id": "G3lJGM0EguLm"
      },
      "source": [
        "**Analysed by** : *Md Nehal Salik*"
      ]
    },
    {
      "cell_type": "markdown",
      "metadata": {
        "id": "lF8ssdxcHVhR"
      },
      "source": [
        "# SQL Lab \n",
        "\n",
        "Due: Oct. 27, 2021\n",
        "\n",
        "Many of the examples have been adapted from Data100 and J. Canny's course.\n",
        "\n",
        "**Required Files**  \n",
        "The imdb.db files (see instructions below on getting this data)."
      ]
    },
    {
      "cell_type": "code",
      "metadata": {
        "id": "89AwDAmbyQ2X"
      },
      "source": [
        "import os\n",
        "import pandas as pd\n",
        "import numpy as np\n",
        "import matplotlib.pyplot as plt\n",
        "import seaborn as sns\n",
        "%matplotlib inline\n",
        "\n",
        "from pathlib import Path\n",
        "from sqlalchemy import create_engine"
      ],
      "execution_count": null,
      "outputs": []
    },
    {
      "cell_type": "markdown",
      "metadata": {
        "id": "50B_jgG4HpwY"
      },
      "source": [
        "we will be using SQLite to connect to databases. This is a simple, light-way module, there are of course other modules to interact with databases. \n",
        "\n",
        "SQLite has a [nice tutorial](https://www.sqlitetutorial.net/) if you want to learn more about database queries and explore additional options. \n"
      ]
    },
    {
      "cell_type": "code",
      "metadata": {
        "id": "tlZlovv7HpNw"
      },
      "source": [
        "import sqlite3"
      ],
      "execution_count": null,
      "outputs": []
    },
    {
      "cell_type": "markdown",
      "metadata": {
        "id": "xfUNvWe1IYWn"
      },
      "source": [
        "A couple of things to know about SQLite.  Other database systems such as `MySQL` and `PostgreSQL` use *static typing*, where a column is declared for a specific data type and can only store data of that type. \n",
        "\n",
        "SQLite uses *dynamic type system*, where a value stored in a column determines its data type, not the column's data type.  "
      ]
    },
    {
      "cell_type": "code",
      "metadata": {
        "id": "8w_DwCnXIXjo"
      },
      "source": [
        "# setup connection to new empty db\n",
        "conn = sqlite3.connect(\"testdatabase.db\")"
      ],
      "execution_count": null,
      "outputs": []
    },
    {
      "cell_type": "markdown",
      "metadata": {
        "id": "usKqdXSvI5tv"
      },
      "source": [
        "### Printing out SQL calls and results \n",
        "\n",
        "We define a function `print_sql(s)` that given an sql query `s` returns the results of the executing. "
      ]
    },
    {
      "cell_type": "code",
      "metadata": {
        "id": "_P3x6SBJIe5R"
      },
      "source": [
        "def print_sql(s):\n",
        "    print('>', s)\n",
        "    for result in conn.execute(s):\n",
        "        print(result)\n",
        "    print ()"
      ],
      "execution_count": null,
      "outputs": []
    },
    {
      "cell_type": "markdown",
      "metadata": {
        "id": "ODTcmqwCJQm2"
      },
      "source": [
        "We can confirm that the database is empty."
      ]
    },
    {
      "cell_type": "code",
      "metadata": {
        "id": "VHz1ESXqJFz0",
        "colab": {
          "base_uri": "https://localhost:8080/"
        },
        "outputId": "4a777bb0-d116-4028-e98e-9aebc62f45e6"
      },
      "source": [
        "print_sql('SELECT sql FROM sqlite_master;')"
      ],
      "execution_count": null,
      "outputs": [
        {
          "output_type": "stream",
          "name": "stdout",
          "text": [
            "> SELECT sql FROM sqlite_master;\n",
            "('CREATE TABLE s(\\n    m INTEGER PRIMARY KEY, \\n    u TEXT\\n)',)\n",
            "('CREATE TABLE t(\\n    n TEXT PRIMARY KEY, \\n    v CHAR\\n)',)\n",
            "(None,)\n",
            "\n"
          ]
        }
      ]
    },
    {
      "cell_type": "markdown",
      "metadata": {
        "id": "wCWywwwFJXh8"
      },
      "source": [
        "We could also use `pandas` `read_sql` function to read in the results of the query to a dataframe to disply.  *Be careful with running this code as it will create the dataframe - for a query that returns many records this could be memory-intensive*"
      ]
    },
    {
      "cell_type": "code",
      "metadata": {
        "id": "pgJN4t1RJTKn"
      },
      "source": [
        "def pretty_print_sql(s):\n",
        "    print('>', s)\n",
        "    df = pd.read_sql(s, conn)\n",
        "    display(df)"
      ],
      "execution_count": null,
      "outputs": []
    },
    {
      "cell_type": "code",
      "metadata": {
        "id": "zVOqkE2zJaBP",
        "colab": {
          "base_uri": "https://localhost:8080/",
          "height": 159
        },
        "outputId": "8eabdd6f-decc-4d3e-e7a4-d2c8c7e81031"
      },
      "source": [
        "pretty_print_sql('SELECT sql FROM sqlite_master;')"
      ],
      "execution_count": null,
      "outputs": [
        {
          "output_type": "stream",
          "name": "stdout",
          "text": [
            "> SELECT sql FROM sqlite_master;\n"
          ]
        },
        {
          "output_type": "display_data",
          "data": {
            "text/html": [
              "<div>\n",
              "<style scoped>\n",
              "    .dataframe tbody tr th:only-of-type {\n",
              "        vertical-align: middle;\n",
              "    }\n",
              "\n",
              "    .dataframe tbody tr th {\n",
              "        vertical-align: top;\n",
              "    }\n",
              "\n",
              "    .dataframe thead th {\n",
              "        text-align: right;\n",
              "    }\n",
              "</style>\n",
              "<table border=\"1\" class=\"dataframe\">\n",
              "  <thead>\n",
              "    <tr style=\"text-align: right;\">\n",
              "      <th></th>\n",
              "      <th>sql</th>\n",
              "    </tr>\n",
              "  </thead>\n",
              "  <tbody>\n",
              "    <tr>\n",
              "      <th>0</th>\n",
              "      <td>CREATE TABLE s(\\n    m INTEGER PRIMARY KEY, \\n...</td>\n",
              "    </tr>\n",
              "    <tr>\n",
              "      <th>1</th>\n",
              "      <td>CREATE TABLE t(\\n    n TEXT PRIMARY KEY, \\n   ...</td>\n",
              "    </tr>\n",
              "    <tr>\n",
              "      <th>2</th>\n",
              "      <td>None</td>\n",
              "    </tr>\n",
              "  </tbody>\n",
              "</table>\n",
              "</div>"
            ],
            "text/plain": [
              "                                                 sql\n",
              "0  CREATE TABLE s(\\n    m INTEGER PRIMARY KEY, \\n...\n",
              "1  CREATE TABLE t(\\n    n TEXT PRIMARY KEY, \\n   ...\n",
              "2                                               None"
            ]
          },
          "metadata": {}
        }
      ]
    },
    {
      "cell_type": "markdown",
      "metadata": {
        "id": "wI8Fta_9JdtL"
      },
      "source": [
        "## Example 1: SQL with a Test DB \n",
        "\n",
        "Here we will use SQLite connection to a test database.\n",
        "\n",
        "First, we will create two sample tables to use in the examples.\n",
        "\n",
        "Create the relational instances in the database.\n",
        "\n",
        "<img src=\"https://pages.mtu.edu/~lebrown/un5550-f20/lab6/ex1-tables.png\" width=\"350px\">\n",
        "\n"
      ]
    },
    {
      "cell_type": "code",
      "metadata": {
        "id": "YBtB3Ww4JcUe"
      },
      "source": [
        "conn.executescript(\"\"\"\n",
        "DROP TABLE IF EXISTS s;\n",
        "DROP TABLE IF EXISTS t;\n",
        "\n",
        "CREATE TABLE s(\n",
        "    m INTEGER PRIMARY KEY, \n",
        "    u TEXT\n",
        ");\n",
        "\n",
        "INSERT INTO s VALUES \n",
        "    (1, 'W'),\n",
        "    (2, 'X'),\n",
        "    (3, 'X'),\n",
        "    (4, 'Y');\n",
        "\n",
        "CREATE TABLE t(\n",
        "    n TEXT PRIMARY KEY, \n",
        "    v CHAR\n",
        ");\n",
        "\n",
        "INSERT INTO t VALUES \n",
        "    ('A', 'X'),\n",
        "    ('B', 'X'),\n",
        "    ('C', 'Y'),\n",
        "    ('D', 'Z');\n",
        "\"\"\");"
      ],
      "execution_count": null,
      "outputs": []
    },
    {
      "cell_type": "markdown",
      "metadata": {
        "id": "ZSSTxKWrLMQP"
      },
      "source": [
        "We can use this to look at the tables `s` and `t` in undefined order."
      ]
    },
    {
      "cell_type": "code",
      "metadata": {
        "id": "reMxGn5wLLay",
        "colab": {
          "base_uri": "https://localhost:8080/"
        },
        "outputId": "ac5ec07d-d453-4968-82f3-ff8160ae20f8"
      },
      "source": [
        "print_sql('SELECT * FROM s;')\n",
        "print_sql('SELECT * FROM t;')"
      ],
      "execution_count": null,
      "outputs": [
        {
          "output_type": "stream",
          "name": "stdout",
          "text": [
            "> SELECT * FROM s;\n",
            "(1, 'W')\n",
            "(2, 'X')\n",
            "(3, 'X')\n",
            "(4, 'Y')\n",
            "\n",
            "> SELECT * FROM t;\n",
            "('A', 'X')\n",
            "('B', 'X')\n",
            "('C', 'Y')\n",
            "('D', 'Z')\n",
            "\n"
          ]
        }
      ]
    },
    {
      "cell_type": "code",
      "metadata": {
        "id": "cl68cY9jLSmE",
        "colab": {
          "base_uri": "https://localhost:8080/",
          "height": 190
        },
        "outputId": "32356c71-7493-499b-d88c-ac99640e5a17"
      },
      "source": [
        "pretty_print_sql('SELECT * FROM t;')"
      ],
      "execution_count": null,
      "outputs": [
        {
          "output_type": "stream",
          "name": "stdout",
          "text": [
            "> SELECT * FROM t;\n"
          ]
        },
        {
          "output_type": "display_data",
          "data": {
            "text/html": [
              "<div>\n",
              "<style scoped>\n",
              "    .dataframe tbody tr th:only-of-type {\n",
              "        vertical-align: middle;\n",
              "    }\n",
              "\n",
              "    .dataframe tbody tr th {\n",
              "        vertical-align: top;\n",
              "    }\n",
              "\n",
              "    .dataframe thead th {\n",
              "        text-align: right;\n",
              "    }\n",
              "</style>\n",
              "<table border=\"1\" class=\"dataframe\">\n",
              "  <thead>\n",
              "    <tr style=\"text-align: right;\">\n",
              "      <th></th>\n",
              "      <th>n</th>\n",
              "      <th>v</th>\n",
              "    </tr>\n",
              "  </thead>\n",
              "  <tbody>\n",
              "    <tr>\n",
              "      <th>0</th>\n",
              "      <td>A</td>\n",
              "      <td>X</td>\n",
              "    </tr>\n",
              "    <tr>\n",
              "      <th>1</th>\n",
              "      <td>B</td>\n",
              "      <td>X</td>\n",
              "    </tr>\n",
              "    <tr>\n",
              "      <th>2</th>\n",
              "      <td>C</td>\n",
              "      <td>Y</td>\n",
              "    </tr>\n",
              "    <tr>\n",
              "      <th>3</th>\n",
              "      <td>D</td>\n",
              "      <td>Z</td>\n",
              "    </tr>\n",
              "  </tbody>\n",
              "</table>\n",
              "</div>"
            ],
            "text/plain": [
              "   n  v\n",
              "0  A  X\n",
              "1  B  X\n",
              "2  C  Y\n",
              "3  D  Z"
            ]
          },
          "metadata": {}
        }
      ]
    },
    {
      "cell_type": "markdown",
      "metadata": {
        "id": "-aNx2i2CLeQ6"
      },
      "source": [
        "### Cross Join \n",
        "\n",
        "Let's know look at performing some of the join operations discussed in class.\n",
        "\n",
        "First, we will look at the cross join or cross product.\n",
        "\n",
        "<img src=\"https://pages.mtu.edu/~lebrown/un5550-f20/lab6/cross-join.png\" width=\"600px\">"
      ]
    },
    {
      "cell_type": "code",
      "metadata": {
        "id": "Z8sUQOWALU5A",
        "colab": {
          "base_uri": "https://localhost:8080/"
        },
        "outputId": "0a5c8775-2847-41ad-8a7c-40bbb7608e7d"
      },
      "source": [
        "print_sql('SELECT * FROM s, t;')"
      ],
      "execution_count": null,
      "outputs": [
        {
          "output_type": "stream",
          "name": "stdout",
          "text": [
            "> SELECT * FROM s, t;\n",
            "(1, 'W', 'A', 'X')\n",
            "(1, 'W', 'B', 'X')\n",
            "(1, 'W', 'C', 'Y')\n",
            "(1, 'W', 'D', 'Z')\n",
            "(2, 'X', 'A', 'X')\n",
            "(2, 'X', 'B', 'X')\n",
            "(2, 'X', 'C', 'Y')\n",
            "(2, 'X', 'D', 'Z')\n",
            "(3, 'X', 'A', 'X')\n",
            "(3, 'X', 'B', 'X')\n",
            "(3, 'X', 'C', 'Y')\n",
            "(3, 'X', 'D', 'Z')\n",
            "(4, 'Y', 'A', 'X')\n",
            "(4, 'Y', 'B', 'X')\n",
            "(4, 'Y', 'C', 'Y')\n",
            "(4, 'Y', 'D', 'Z')\n",
            "\n"
          ]
        }
      ]
    },
    {
      "cell_type": "code",
      "metadata": {
        "id": "tGUKsxXML1bW",
        "colab": {
          "base_uri": "https://localhost:8080/"
        },
        "outputId": "ca468694-a87f-4c77-bd03-09d53bda86c2"
      },
      "source": [
        "# Another way to structure our query\n",
        "print_sql(\"\"\"\n",
        "SELECT *\n",
        "FROM s CROSS JOIN t;\n",
        "\"\"\")"
      ],
      "execution_count": null,
      "outputs": [
        {
          "output_type": "stream",
          "name": "stdout",
          "text": [
            "> \n",
            "SELECT *\n",
            "FROM s CROSS JOIN t;\n",
            "\n",
            "(1, 'W', 'A', 'X')\n",
            "(1, 'W', 'B', 'X')\n",
            "(1, 'W', 'C', 'Y')\n",
            "(1, 'W', 'D', 'Z')\n",
            "(2, 'X', 'A', 'X')\n",
            "(2, 'X', 'B', 'X')\n",
            "(2, 'X', 'C', 'Y')\n",
            "(2, 'X', 'D', 'Z')\n",
            "(3, 'X', 'A', 'X')\n",
            "(3, 'X', 'B', 'X')\n",
            "(3, 'X', 'C', 'Y')\n",
            "(3, 'X', 'D', 'Z')\n",
            "(4, 'Y', 'A', 'X')\n",
            "(4, 'Y', 'B', 'X')\n",
            "(4, 'Y', 'C', 'Y')\n",
            "(4, 'Y', 'D', 'Z')\n",
            "\n"
          ]
        }
      ]
    },
    {
      "cell_type": "markdown",
      "metadata": {
        "id": "hAPC3LUzL4j8"
      },
      "source": [
        "### Inner Join \n",
        "\n",
        "Next, look at performing an inner join. \n",
        "\n",
        "<img src=\"https://pages.mtu.edu/~lebrown/un5550-f20/lab6/inner-join.png\" width=\"600px\">"
      ]
    },
    {
      "cell_type": "code",
      "metadata": {
        "id": "PxQDGLafL3a7",
        "colab": {
          "base_uri": "https://localhost:8080/",
          "height": 459
        },
        "outputId": "309d27d4-7f56-479f-e69c-b09f437694eb"
      },
      "source": [
        "# Here are three methods for performing and printing out the inner join\n",
        "print_sql('SELECT * FROM s JOIN t ON s.u = t.v;')\n",
        "print_sql('SELECT * FROM s, t WHERE s.u = t.v;')\n",
        "pretty_print_sql('SELECT * FROM s, t WHERE s.u = t.v;')"
      ],
      "execution_count": null,
      "outputs": [
        {
          "output_type": "stream",
          "name": "stdout",
          "text": [
            "> SELECT * FROM s JOIN t ON s.u = t.v;\n",
            "(2, 'X', 'A', 'X')\n",
            "(2, 'X', 'B', 'X')\n",
            "(3, 'X', 'A', 'X')\n",
            "(3, 'X', 'B', 'X')\n",
            "(4, 'Y', 'C', 'Y')\n",
            "\n",
            "> SELECT * FROM s, t WHERE s.u = t.v;\n",
            "(2, 'X', 'A', 'X')\n",
            "(2, 'X', 'B', 'X')\n",
            "(3, 'X', 'A', 'X')\n",
            "(3, 'X', 'B', 'X')\n",
            "(4, 'Y', 'C', 'Y')\n",
            "\n",
            "> SELECT * FROM s, t WHERE s.u = t.v;\n"
          ]
        },
        {
          "output_type": "display_data",
          "data": {
            "text/html": [
              "<div>\n",
              "<style scoped>\n",
              "    .dataframe tbody tr th:only-of-type {\n",
              "        vertical-align: middle;\n",
              "    }\n",
              "\n",
              "    .dataframe tbody tr th {\n",
              "        vertical-align: top;\n",
              "    }\n",
              "\n",
              "    .dataframe thead th {\n",
              "        text-align: right;\n",
              "    }\n",
              "</style>\n",
              "<table border=\"1\" class=\"dataframe\">\n",
              "  <thead>\n",
              "    <tr style=\"text-align: right;\">\n",
              "      <th></th>\n",
              "      <th>m</th>\n",
              "      <th>u</th>\n",
              "      <th>n</th>\n",
              "      <th>v</th>\n",
              "    </tr>\n",
              "  </thead>\n",
              "  <tbody>\n",
              "    <tr>\n",
              "      <th>0</th>\n",
              "      <td>2</td>\n",
              "      <td>X</td>\n",
              "      <td>A</td>\n",
              "      <td>X</td>\n",
              "    </tr>\n",
              "    <tr>\n",
              "      <th>1</th>\n",
              "      <td>2</td>\n",
              "      <td>X</td>\n",
              "      <td>B</td>\n",
              "      <td>X</td>\n",
              "    </tr>\n",
              "    <tr>\n",
              "      <th>2</th>\n",
              "      <td>3</td>\n",
              "      <td>X</td>\n",
              "      <td>A</td>\n",
              "      <td>X</td>\n",
              "    </tr>\n",
              "    <tr>\n",
              "      <th>3</th>\n",
              "      <td>3</td>\n",
              "      <td>X</td>\n",
              "      <td>B</td>\n",
              "      <td>X</td>\n",
              "    </tr>\n",
              "    <tr>\n",
              "      <th>4</th>\n",
              "      <td>4</td>\n",
              "      <td>Y</td>\n",
              "      <td>C</td>\n",
              "      <td>Y</td>\n",
              "    </tr>\n",
              "  </tbody>\n",
              "</table>\n",
              "</div>"
            ],
            "text/plain": [
              "   m  u  n  v\n",
              "0  2  X  A  X\n",
              "1  2  X  B  X\n",
              "2  3  X  A  X\n",
              "3  3  X  B  X\n",
              "4  4  Y  C  Y"
            ]
          },
          "metadata": {}
        }
      ]
    },
    {
      "cell_type": "markdown",
      "metadata": {
        "id": "6KgJMT42MUyV"
      },
      "source": [
        "### Left Outer Join \n",
        "\n",
        "Next, let's examine performing a left outer join. \n",
        "\n",
        "<img src=\"https://pages.mtu.edu/~lebrown/un5550-f20/lab6/left-outer-join.png\" width=\"600px\">"
      ]
    },
    {
      "cell_type": "code",
      "metadata": {
        "id": "s6wo7Te_MKwL",
        "colab": {
          "base_uri": "https://localhost:8080/"
        },
        "outputId": "257be497-7c78-495a-e76b-d03c73d9150c"
      },
      "source": [
        "print_sql('SELECT * FROM s LEFT JOIN t ON s.u = t.v')"
      ],
      "execution_count": null,
      "outputs": [
        {
          "output_type": "stream",
          "name": "stdout",
          "text": [
            "> SELECT * FROM s LEFT JOIN t ON s.u = t.v\n",
            "(1, 'W', None, None)\n",
            "(2, 'X', 'A', 'X')\n",
            "(2, 'X', 'B', 'X')\n",
            "(3, 'X', 'A', 'X')\n",
            "(3, 'X', 'B', 'X')\n",
            "(4, 'Y', 'C', 'Y')\n",
            "\n"
          ]
        }
      ]
    },
    {
      "cell_type": "markdown",
      "metadata": {
        "id": "vw5m_Z8zMj1k"
      },
      "source": [
        "### Other Joins \n",
        "\n"
      ]
    },
    {
      "cell_type": "code",
      "metadata": {
        "id": "QMkaR5UhMjSk",
        "colab": {
          "base_uri": "https://localhost:8080/"
        },
        "outputId": "317d5052-7b89-4500-8a31-492999849215"
      },
      "source": [
        "print_sql('SELECT s.m, s.u, t.n, t.v FROM t LEFT JOIN s ON s.u = t.v;')\n",
        "print_sql('SELECT s.m, s.u, t.n, t.v FROM s LEFT JOIN t ON s.u = t.v UNION '\n",
        "          'SELECT s.m, s.u, t.n, t.v FROM t LEFT JOIN s ON s.u = t.v;')"
      ],
      "execution_count": null,
      "outputs": [
        {
          "output_type": "stream",
          "name": "stdout",
          "text": [
            "> SELECT s.m, s.u, t.n, t.v FROM t LEFT JOIN s ON s.u = t.v;\n",
            "(2, 'X', 'A', 'X')\n",
            "(3, 'X', 'A', 'X')\n",
            "(2, 'X', 'B', 'X')\n",
            "(3, 'X', 'B', 'X')\n",
            "(4, 'Y', 'C', 'Y')\n",
            "(None, None, 'D', 'Z')\n",
            "\n",
            "> SELECT s.m, s.u, t.n, t.v FROM s LEFT JOIN t ON s.u = t.v UNION SELECT s.m, s.u, t.n, t.v FROM t LEFT JOIN s ON s.u = t.v;\n",
            "(None, None, 'D', 'Z')\n",
            "(1, 'W', None, None)\n",
            "(2, 'X', 'A', 'X')\n",
            "(2, 'X', 'B', 'X')\n",
            "(3, 'X', 'A', 'X')\n",
            "(3, 'X', 'B', 'X')\n",
            "(4, 'Y', 'C', 'Y')\n",
            "\n"
          ]
        }
      ]
    },
    {
      "cell_type": "code",
      "metadata": {
        "id": "TCLAUZQ2Mn-S"
      },
      "source": [
        "# Close down connection to database\n",
        "conn.close()"
      ],
      "execution_count": null,
      "outputs": []
    },
    {
      "cell_type": "markdown",
      "metadata": {
        "id": "ax5AbURRMrQF"
      },
      "source": [
        "## Example 2: IMDB \n",
        "\n",
        "Let's look at some large data files!  We will pull some data from IMDB. \n",
        "\n",
        "\n",
        "### Database Created\n",
        "\n",
        "Here is a summary on how the database was created. \n",
        "\n",
        "**Download data**\n",
        "\n",
        "The data we are interested is available from [IMDB](https://www.imdb.com/interfaces/)\n",
        "\n",
        "```python \n",
        "# From https://www.imdb.com/interfaces/\n",
        "fetch_and_cache('https://datasets.imdbws.com/title.basics.tsv.gz', 'titles.tsv.gz') \n",
        "fetch_and_cache('https://datasets.imdbws.com/name.basics.tsv.gz', 'names.tsv.gz')\n",
        "```\n",
        "\n",
        "**Unzip files**\n",
        "\n",
        "```python \n",
        "!gunzip -kf data/titles.tsv.gz\n",
        "!gunzip -kf data/names.tsv.gz\n",
        "!ls -lh data\n",
        "```\n",
        "\n",
        "**View files** \n",
        "\n",
        "If on a Mac, Linux computer or Colab notebook. \n",
        "\n",
        "```\n",
        "!head -n5 data/titles.tsv \n",
        "!head -n5 data/names.tsv\n",
        "```"
      ]
    },
    {
      "cell_type": "markdown",
      "metadata": {
        "id": "pwyU1EMEVMSL"
      },
      "source": [
        "**Create the Database**\n",
        "\n",
        "I have done this for you because it is easier using the command line with `sqlite3`.  \n",
        "\n",
        "* First, removed the `\"` that appear in the tab files.  \n",
        "* Create database using the following commands. \n",
        "\n",
        "On a Mac/Linux box with sqlite3 v3.8 or higher, run the following commands at the terminal. \n",
        "\n",
        "```\n",
        "(base) lebrown@lebrown-macbook data$ sqlite3 imdb.db\n",
        "SQLite version 3.27.2 2019-02-25 16:06:06\n",
        "Enter \".help\" for usage hints.\n",
        "sqlite> .mode tabs\n",
        "sqlite> .import titles.tsv titles\n",
        "sqlite> .import names.tsv names\n",
        "sqlite> ^D\n",
        "```\n"
      ]
    },
    {
      "cell_type": "markdown",
      "metadata": {
        "id": "Gdyr4MI21hd0"
      },
      "source": [
        "### Download the Database \n",
        "\n",
        "The `imdb.db` database is available for you to download on [Kaggle](https://www.kaggle.com/). \n",
        "\n",
        "You have already created your Kaggle account and can again use your API to access the data."
      ]
    },
    {
      "cell_type": "markdown",
      "metadata": {
        "id": "szQ85O8w3E9l"
      },
      "source": [
        "#### Method 1: \n",
        "Copy and paste the key information (does not upload your key information to the Drive). "
      ]
    },
    {
      "cell_type": "code",
      "metadata": {
        "id": "BLMlr21E3D9Q",
        "colab": {
          "base_uri": "https://localhost:8080/"
        },
        "outputId": "8b229d76-7280-434b-94f7-04b06e979578"
      },
      "source": [
        "import os \n",
        "from getpass import getpass\n",
        "\n",
        "os.environ['KAGGLE_USERNAME'] = getpass(\"Enter Kaggle Username: \")\n",
        "os.environ['KAGGLE_KEY'] = getpass(\"Enter Kaggle API Key: \")"
      ],
      "execution_count": null,
      "outputs": [
        {
          "name": "stdout",
          "output_type": "stream",
          "text": [
            "Enter Kaggle Username: ··········\n",
            "Enter Kaggle API Key: ··········\n"
          ]
        }
      ]
    },
    {
      "cell_type": "markdown",
      "metadata": {
        "id": "QWYlXV333i7w"
      },
      "source": [
        "#### Method 2 \n",
        "\n",
        "Load `kaggle.json` to Colab directory (file is destroyed when sevice is disconnected).  This method relys on Google's security for safely storing and protecting your data. "
      ]
    },
    {
      "cell_type": "code",
      "metadata": {
        "id": "pcRFI2CZ30F7"
      },
      "source": [
        "from google.colab import files\n",
        "uploaded = files.upload()"
      ],
      "execution_count": null,
      "outputs": []
    },
    {
      "cell_type": "code",
      "metadata": {
        "id": "Sfa8Bp2b309I"
      },
      "source": [
        "import json\n",
        "with open(\"kaggle.json\") as f:\n",
        "    keys = json.load(f)\n",
        "\n",
        "os.environ['KAGGLE_USERNAME'] = keys[\"username\"] # username from the json file\n",
        "os.environ['KAGGLE_KEY'] = keys[\"key\"] # key from the json file"
      ],
      "execution_count": null,
      "outputs": []
    },
    {
      "cell_type": "markdown",
      "metadata": {
        "id": "Ljfg1YXJ4Hq6"
      },
      "source": [
        "#### Download the Data "
      ]
    },
    {
      "cell_type": "code",
      "metadata": {
        "id": "mX1Nbs5ZwCyM",
        "colab": {
          "base_uri": "https://localhost:8080/"
        },
        "outputId": "a74529d6-3af1-4eb1-d6be-8df24892706b"
      },
      "source": [
        "!kaggle datasets download -d lebrown/un5550lab6 --force # api copied from kaggle"
      ],
      "execution_count": null,
      "outputs": [
        {
          "output_type": "stream",
          "name": "stdout",
          "text": [
            "Downloading un5550lab6.zip to /content\n",
            " 98% 470M/479M [00:05<00:00, 134MB/s]\n",
            "100% 479M/479M [00:05<00:00, 95.3MB/s]\n"
          ]
        }
      ]
    },
    {
      "cell_type": "code",
      "metadata": {
        "id": "vb1RdCL4wRtc",
        "colab": {
          "base_uri": "https://localhost:8080/"
        },
        "outputId": "3a67dacd-ed3a-4af9-ebf0-50436f980aed"
      },
      "source": [
        "!unzip un5550lab6.zip"
      ],
      "execution_count": null,
      "outputs": [
        {
          "output_type": "stream",
          "name": "stdout",
          "text": [
            "Archive:  un5550lab6.zip\n",
            "replace imdb.db? [y]es, [n]o, [A]ll, [N]one, [r]ename: yes\n",
            "  inflating: imdb.db                 \n"
          ]
        }
      ]
    },
    {
      "cell_type": "markdown",
      "metadata": {
        "id": "3ssTHpvL4PgH"
      },
      "source": [
        "You now have the `imdb.db` database available to you."
      ]
    },
    {
      "cell_type": "code",
      "metadata": {
        "id": "11023SoSdCns"
      },
      "source": [
        "conn = sqlite3.connect(\"imdb.db\")"
      ],
      "execution_count": null,
      "outputs": []
    },
    {
      "cell_type": "markdown",
      "metadata": {
        "id": "jFSX2K64x02_"
      },
      "source": [
        "### 1 \n",
        "\n",
        "Let's look at just the first 10 entries from the `titles` relation. \n",
        "\n",
        "Your solution should be of the form: \n",
        "```\n",
        "pretty_print_sql(<query>) \n",
        "#or \n",
        "print_sql(<query>)\n",
        "```"
      ]
    },
    {
      "cell_type": "code",
      "metadata": {
        "id": "kMCtZEwvx-pV",
        "colab": {
          "base_uri": "https://localhost:8080/",
          "height": 376
        },
        "outputId": "29e2921b-ff31-403d-8781-c2f68b1cc6ef"
      },
      "source": [
        "### BEGIN SOLUTION \n",
        "pretty_print_sql('SELECT * FROM titles LIMIT 10;') \n",
        "### END SOLUTION "
      ],
      "execution_count": null,
      "outputs": [
        {
          "output_type": "stream",
          "name": "stdout",
          "text": [
            "> SELECT * FROM titles LIMIT 10;\n"
          ]
        },
        {
          "output_type": "display_data",
          "data": {
            "text/html": [
              "<div>\n",
              "<style scoped>\n",
              "    .dataframe tbody tr th:only-of-type {\n",
              "        vertical-align: middle;\n",
              "    }\n",
              "\n",
              "    .dataframe tbody tr th {\n",
              "        vertical-align: top;\n",
              "    }\n",
              "\n",
              "    .dataframe thead th {\n",
              "        text-align: right;\n",
              "    }\n",
              "</style>\n",
              "<table border=\"1\" class=\"dataframe\">\n",
              "  <thead>\n",
              "    <tr style=\"text-align: right;\">\n",
              "      <th></th>\n",
              "      <th>tconst</th>\n",
              "      <th>titleType</th>\n",
              "      <th>primaryTitle</th>\n",
              "      <th>originalTitle</th>\n",
              "      <th>isAdult</th>\n",
              "      <th>startYear</th>\n",
              "      <th>endYear</th>\n",
              "      <th>runtimeMinutes</th>\n",
              "      <th>genres</th>\n",
              "    </tr>\n",
              "  </thead>\n",
              "  <tbody>\n",
              "    <tr>\n",
              "      <th>0</th>\n",
              "      <td>tt0000001</td>\n",
              "      <td>short</td>\n",
              "      <td>Carmencita</td>\n",
              "      <td>Carmencita</td>\n",
              "      <td>0</td>\n",
              "      <td>1894</td>\n",
              "      <td>\\N</td>\n",
              "      <td>1</td>\n",
              "      <td>Documentary,Short</td>\n",
              "    </tr>\n",
              "    <tr>\n",
              "      <th>1</th>\n",
              "      <td>tt0000002</td>\n",
              "      <td>short</td>\n",
              "      <td>Le clown et ses chiens</td>\n",
              "      <td>Le clown et ses chiens</td>\n",
              "      <td>0</td>\n",
              "      <td>1892</td>\n",
              "      <td>\\N</td>\n",
              "      <td>5</td>\n",
              "      <td>Animation,Short</td>\n",
              "    </tr>\n",
              "    <tr>\n",
              "      <th>2</th>\n",
              "      <td>tt0000003</td>\n",
              "      <td>short</td>\n",
              "      <td>Pauvre Pierrot</td>\n",
              "      <td>Pauvre Pierrot</td>\n",
              "      <td>0</td>\n",
              "      <td>1892</td>\n",
              "      <td>\\N</td>\n",
              "      <td>4</td>\n",
              "      <td>Animation,Comedy,Romance</td>\n",
              "    </tr>\n",
              "    <tr>\n",
              "      <th>3</th>\n",
              "      <td>tt0000004</td>\n",
              "      <td>short</td>\n",
              "      <td>Un bon bock</td>\n",
              "      <td>Un bon bock</td>\n",
              "      <td>0</td>\n",
              "      <td>1892</td>\n",
              "      <td>\\N</td>\n",
              "      <td>12</td>\n",
              "      <td>Animation,Short</td>\n",
              "    </tr>\n",
              "    <tr>\n",
              "      <th>4</th>\n",
              "      <td>tt0000005</td>\n",
              "      <td>short</td>\n",
              "      <td>Blacksmith Scene</td>\n",
              "      <td>Blacksmith Scene</td>\n",
              "      <td>0</td>\n",
              "      <td>1893</td>\n",
              "      <td>\\N</td>\n",
              "      <td>1</td>\n",
              "      <td>Comedy,Short</td>\n",
              "    </tr>\n",
              "    <tr>\n",
              "      <th>5</th>\n",
              "      <td>tt0000006</td>\n",
              "      <td>short</td>\n",
              "      <td>Chinese Opium Den</td>\n",
              "      <td>Chinese Opium Den</td>\n",
              "      <td>0</td>\n",
              "      <td>1894</td>\n",
              "      <td>\\N</td>\n",
              "      <td>1</td>\n",
              "      <td>Short</td>\n",
              "    </tr>\n",
              "    <tr>\n",
              "      <th>6</th>\n",
              "      <td>tt0000007</td>\n",
              "      <td>short</td>\n",
              "      <td>Corbett and Courtney Before the Kinetograph</td>\n",
              "      <td>Corbett and Courtney Before the Kinetograph</td>\n",
              "      <td>0</td>\n",
              "      <td>1894</td>\n",
              "      <td>\\N</td>\n",
              "      <td>1</td>\n",
              "      <td>Short,Sport</td>\n",
              "    </tr>\n",
              "    <tr>\n",
              "      <th>7</th>\n",
              "      <td>tt0000008</td>\n",
              "      <td>short</td>\n",
              "      <td>Edison Kinetoscopic Record of a Sneeze</td>\n",
              "      <td>Edison Kinetoscopic Record of a Sneeze</td>\n",
              "      <td>0</td>\n",
              "      <td>1894</td>\n",
              "      <td>\\N</td>\n",
              "      <td>1</td>\n",
              "      <td>Documentary,Short</td>\n",
              "    </tr>\n",
              "    <tr>\n",
              "      <th>8</th>\n",
              "      <td>tt0000009</td>\n",
              "      <td>movie</td>\n",
              "      <td>Miss Jerry</td>\n",
              "      <td>Miss Jerry</td>\n",
              "      <td>0</td>\n",
              "      <td>1894</td>\n",
              "      <td>\\N</td>\n",
              "      <td>45</td>\n",
              "      <td>Romance</td>\n",
              "    </tr>\n",
              "    <tr>\n",
              "      <th>9</th>\n",
              "      <td>tt0000010</td>\n",
              "      <td>short</td>\n",
              "      <td>Leaving the Factory</td>\n",
              "      <td>La sortie de l'usine Lumière à Lyon</td>\n",
              "      <td>0</td>\n",
              "      <td>1895</td>\n",
              "      <td>\\N</td>\n",
              "      <td>1</td>\n",
              "      <td>Documentary,Short</td>\n",
              "    </tr>\n",
              "  </tbody>\n",
              "</table>\n",
              "</div>"
            ],
            "text/plain": [
              "      tconst titleType  ... runtimeMinutes                    genres\n",
              "0  tt0000001     short  ...              1         Documentary,Short\n",
              "1  tt0000002     short  ...              5           Animation,Short\n",
              "2  tt0000003     short  ...              4  Animation,Comedy,Romance\n",
              "3  tt0000004     short  ...             12           Animation,Short\n",
              "4  tt0000005     short  ...              1              Comedy,Short\n",
              "5  tt0000006     short  ...              1                     Short\n",
              "6  tt0000007     short  ...              1               Short,Sport\n",
              "7  tt0000008     short  ...              1         Documentary,Short\n",
              "8  tt0000009     movie  ...             45                   Romance\n",
              "9  tt0000010     short  ...              1         Documentary,Short\n",
              "\n",
              "[10 rows x 9 columns]"
            ]
          },
          "metadata": {}
        }
      ]
    },
    {
      "cell_type": "markdown",
      "metadata": {
        "id": "V4zIuUBB0CQo"
      },
      "source": [
        "### 2 \n",
        "\n",
        "While we know the structure of the tables from IMDB, see how this info is laid out.\n",
        "\n",
        "That is, show the tables in the database and their structure (i.e., what fields-types they have)\n",
        "\n",
        "Use the `conn.execute(...)` function rather than the `print_sql(...)` function."
      ]
    },
    {
      "cell_type": "code",
      "metadata": {
        "id": "dcxq-_rJyBsK",
        "colab": {
          "base_uri": "https://localhost:8080/"
        },
        "outputId": "aa245c7b-4986-4b69-e9a0-2b3716f64ff7"
      },
      "source": [
        "### BEGIN SOLUTION\n",
        "conn = sqlite3.connect(\"imdb.db\") \n",
        "s = 'SELECT sql FROM sqlite_master'\n",
        "for result in conn.execute(s):\n",
        "  print(result[0])"
      ],
      "execution_count": null,
      "outputs": [
        {
          "output_type": "stream",
          "name": "stdout",
          "text": [
            "CREATE TABLE titles(\n",
            "  \"tconst\" TEXT,\n",
            "  \"titleType\" TEXT,\n",
            "  \"primaryTitle\" TEXT,\n",
            "  \"originalTitle\" TEXT,\n",
            "  \"isAdult\" TEXT,\n",
            "  \"startYear\" TEXT,\n",
            "  \"endYear\" TEXT,\n",
            "  \"runtimeMinutes\" TEXT,\n",
            "  \"genres\" TEXT\n",
            ")\n",
            "CREATE TABLE names(\n",
            "  \"nconst\" TEXT,\n",
            "  \"primaryName\" TEXT,\n",
            "  \"birthYear\" TEXT,\n",
            "  \"deathYear\" TEXT,\n",
            "  \"primaryProfession\" TEXT,\n",
            "  \"knownForTitles\" TEXT\n",
            ")\n"
          ]
        }
      ]
    },
    {
      "cell_type": "markdown",
      "metadata": {
        "id": "dMDNjCqY51G1"
      },
      "source": [
        "### 3 \n",
        "\n",
        "Select movies where the starting year > 2005 (show the first 10).  \n",
        "Your solution should be of the form: \n",
        "```\n",
        "pretty_print_sql(<query>) \n",
        "#or \n",
        "print_sql(<query>)\n",
        "```\n",
        "\n",
        "Display all fields of the appropriate table.\n",
        "\n",
        "Make sure to exclude records that are missing a starting year value. "
      ]
    },
    {
      "cell_type": "code",
      "metadata": {
        "id": "vmjZuzEh5GSr",
        "colab": {
          "base_uri": "https://localhost:8080/",
          "height": 376
        },
        "outputId": "b5f6e531-aed5-4d3e-bc6b-6ddc83de11b2"
      },
      "source": [
        "### BEGIN SOLUTION \n",
        "## Using Line Continuation to split the query into two line\n",
        "query = 'SELECT * FROM titles WHERE startYear > 2005 \\\n",
        "         AND startYear NOT LIKE \"\\\\N\"  LIMIT 10 ;'\n",
        "pretty_print_sql(query)\n",
        "### END SOLUTION "
      ],
      "execution_count": null,
      "outputs": [
        {
          "output_type": "stream",
          "name": "stdout",
          "text": [
            "> SELECT * FROM titles WHERE startYear > 2005          AND startYear NOT LIKE \"\\N\"  LIMIT 10 ;\n"
          ]
        },
        {
          "output_type": "display_data",
          "data": {
            "text/html": [
              "<div>\n",
              "<style scoped>\n",
              "    .dataframe tbody tr th:only-of-type {\n",
              "        vertical-align: middle;\n",
              "    }\n",
              "\n",
              "    .dataframe tbody tr th {\n",
              "        vertical-align: top;\n",
              "    }\n",
              "\n",
              "    .dataframe thead th {\n",
              "        text-align: right;\n",
              "    }\n",
              "</style>\n",
              "<table border=\"1\" class=\"dataframe\">\n",
              "  <thead>\n",
              "    <tr style=\"text-align: right;\">\n",
              "      <th></th>\n",
              "      <th>tconst</th>\n",
              "      <th>titleType</th>\n",
              "      <th>primaryTitle</th>\n",
              "      <th>originalTitle</th>\n",
              "      <th>isAdult</th>\n",
              "      <th>startYear</th>\n",
              "      <th>endYear</th>\n",
              "      <th>runtimeMinutes</th>\n",
              "      <th>genres</th>\n",
              "    </tr>\n",
              "  </thead>\n",
              "  <tbody>\n",
              "    <tr>\n",
              "      <th>0</th>\n",
              "      <td>tt0013620</td>\n",
              "      <td>short</td>\n",
              "      <td>Sol y sombra</td>\n",
              "      <td>Sol y sombra</td>\n",
              "      <td>0</td>\n",
              "      <td>2020</td>\n",
              "      <td>\\N</td>\n",
              "      <td>40</td>\n",
              "      <td>Drama,Short</td>\n",
              "    </tr>\n",
              "    <tr>\n",
              "      <th>1</th>\n",
              "      <td>tt0016906</td>\n",
              "      <td>movie</td>\n",
              "      <td>Frivolinas</td>\n",
              "      <td>Frivolinas</td>\n",
              "      <td>0</td>\n",
              "      <td>2014</td>\n",
              "      <td>\\N</td>\n",
              "      <td>80</td>\n",
              "      <td>Comedy,Musical</td>\n",
              "    </tr>\n",
              "    <tr>\n",
              "      <th>2</th>\n",
              "      <td>tt0055769</td>\n",
              "      <td>short</td>\n",
              "      <td>La bague du roi Koda</td>\n",
              "      <td>La bague du roi Koda</td>\n",
              "      <td>0</td>\n",
              "      <td>2017</td>\n",
              "      <td>\\N</td>\n",
              "      <td>24</td>\n",
              "      <td>Short</td>\n",
              "    </tr>\n",
              "    <tr>\n",
              "      <th>3</th>\n",
              "      <td>tt0060366</td>\n",
              "      <td>short</td>\n",
              "      <td>A Embalagem de Vidro</td>\n",
              "      <td>A Embalagem de Vidro</td>\n",
              "      <td>0</td>\n",
              "      <td>2020</td>\n",
              "      <td>\\N</td>\n",
              "      <td>11</td>\n",
              "      <td>Documentary,Short</td>\n",
              "    </tr>\n",
              "    <tr>\n",
              "      <th>4</th>\n",
              "      <td>tt0062336</td>\n",
              "      <td>movie</td>\n",
              "      <td>El Tango del Viudo y Su Espejo Deformante</td>\n",
              "      <td>El Tango del Viudo y Su Espejo Deformante</td>\n",
              "      <td>0</td>\n",
              "      <td>2020</td>\n",
              "      <td>\\N</td>\n",
              "      <td>70</td>\n",
              "      <td>Drama</td>\n",
              "    </tr>\n",
              "    <tr>\n",
              "      <th>5</th>\n",
              "      <td>tt0065047</td>\n",
              "      <td>short</td>\n",
              "      <td>The Sun's Gonna Shine</td>\n",
              "      <td>The Sun's Gonna Shine</td>\n",
              "      <td>0</td>\n",
              "      <td>2014</td>\n",
              "      <td>\\N</td>\n",
              "      <td>10</td>\n",
              "      <td>Documentary,Music,Short</td>\n",
              "    </tr>\n",
              "    <tr>\n",
              "      <th>6</th>\n",
              "      <td>tt0065392</td>\n",
              "      <td>movie</td>\n",
              "      <td>Bucharest Memories</td>\n",
              "      <td>Amintiri bucurestene</td>\n",
              "      <td>0</td>\n",
              "      <td>2020</td>\n",
              "      <td>\\N</td>\n",
              "      <td>\\N</td>\n",
              "      <td>Documentary</td>\n",
              "    </tr>\n",
              "    <tr>\n",
              "      <th>7</th>\n",
              "      <td>tt0068943</td>\n",
              "      <td>short</td>\n",
              "      <td>Between Wrocław and Zielona Góra</td>\n",
              "      <td>Miedzy Wroclawiem a Zielona Góra</td>\n",
              "      <td>0</td>\n",
              "      <td>2010</td>\n",
              "      <td>\\N</td>\n",
              "      <td>11</td>\n",
              "      <td>Documentary,Short</td>\n",
              "    </tr>\n",
              "    <tr>\n",
              "      <th>8</th>\n",
              "      <td>tt0069049</td>\n",
              "      <td>movie</td>\n",
              "      <td>The Other Side of the Wind</td>\n",
              "      <td>The Other Side of the Wind</td>\n",
              "      <td>0</td>\n",
              "      <td>2018</td>\n",
              "      <td>\\N</td>\n",
              "      <td>122</td>\n",
              "      <td>Drama</td>\n",
              "    </tr>\n",
              "    <tr>\n",
              "      <th>9</th>\n",
              "      <td>tt0072306</td>\n",
              "      <td>movie</td>\n",
              "      <td>Toula ou Le génie des eaux *</td>\n",
              "      <td>Toula ou Le génie des eaux *</td>\n",
              "      <td>0</td>\n",
              "      <td>2017</td>\n",
              "      <td>\\N</td>\n",
              "      <td>90</td>\n",
              "      <td>Drama</td>\n",
              "    </tr>\n",
              "  </tbody>\n",
              "</table>\n",
              "</div>"
            ],
            "text/plain": [
              "      tconst titleType  ... runtimeMinutes                   genres\n",
              "0  tt0013620     short  ...             40              Drama,Short\n",
              "1  tt0016906     movie  ...             80           Comedy,Musical\n",
              "2  tt0055769     short  ...             24                    Short\n",
              "3  tt0060366     short  ...             11        Documentary,Short\n",
              "4  tt0062336     movie  ...             70                    Drama\n",
              "5  tt0065047     short  ...             10  Documentary,Music,Short\n",
              "6  tt0065392     movie  ...             \\N              Documentary\n",
              "7  tt0068943     short  ...             11        Documentary,Short\n",
              "8  tt0069049     movie  ...            122                    Drama\n",
              "9  tt0072306     movie  ...             90                    Drama\n",
              "\n",
              "[10 rows x 9 columns]"
            ]
          },
          "metadata": {}
        }
      ]
    },
    {
      "cell_type": "markdown",
      "metadata": {
        "id": "U-wTBSth6kSS"
      },
      "source": [
        "###4 \n",
        "\n",
        "Select comedy, TV shows starting in 2004 with a 22 minute running time (show the first 10).  \n",
        "Your solution should be of the form: \n",
        "```\n",
        "pretty_print_sql(<query>) \n",
        "#or \n",
        "print_sql(<query>)\n",
        "```\n",
        "\n",
        "Display all fields of the appropriate table.\n"
      ]
    },
    {
      "cell_type": "code",
      "metadata": {
        "id": "nmoQT0rQ6XNR",
        "colab": {
          "base_uri": "https://localhost:8080/",
          "height": 376
        },
        "outputId": "116850ee-41c8-42f3-bbe1-a7c649416541"
      },
      "source": [
        "### BEGIN SOLUTION\n",
        "## It Was not clear from \"comedy,TV shows\" term in the question, what was needed\n",
        "## Filtered the genres and TV shows as per advice from the TA(Surya)\n",
        "query_4 = 'SELECT * FROM titles WHERE startYear=2010 AND \\\n",
        "          runtimeMinutes=22 AND titleType LIKE \"tvS%\" AND \\\n",
        "          genres LIKE \"Comedy%\" LIMIT 10;'\n",
        "pretty_print_sql(query_4)\n",
        "## END SOLUTION "
      ],
      "execution_count": null,
      "outputs": [
        {
          "output_type": "stream",
          "name": "stdout",
          "text": [
            "> SELECT * FROM titles WHERE startYear=2010 AND           runtimeMinutes=22 AND titleType LIKE \"tvS%\" AND           genres LIKE \"Comedy%\" LIMIT 10;\n"
          ]
        },
        {
          "output_type": "display_data",
          "data": {
            "text/html": [
              "<div>\n",
              "<style scoped>\n",
              "    .dataframe tbody tr th:only-of-type {\n",
              "        vertical-align: middle;\n",
              "    }\n",
              "\n",
              "    .dataframe tbody tr th {\n",
              "        vertical-align: top;\n",
              "    }\n",
              "\n",
              "    .dataframe thead th {\n",
              "        text-align: right;\n",
              "    }\n",
              "</style>\n",
              "<table border=\"1\" class=\"dataframe\">\n",
              "  <thead>\n",
              "    <tr style=\"text-align: right;\">\n",
              "      <th></th>\n",
              "      <th>tconst</th>\n",
              "      <th>titleType</th>\n",
              "      <th>primaryTitle</th>\n",
              "      <th>originalTitle</th>\n",
              "      <th>isAdult</th>\n",
              "      <th>startYear</th>\n",
              "      <th>endYear</th>\n",
              "      <th>runtimeMinutes</th>\n",
              "      <th>genres</th>\n",
              "    </tr>\n",
              "  </thead>\n",
              "  <tbody>\n",
              "    <tr>\n",
              "      <th>0</th>\n",
              "      <td>tt12152912</td>\n",
              "      <td>tvSeries</td>\n",
              "      <td>Tuned Out</td>\n",
              "      <td>Tuned Out</td>\n",
              "      <td>0</td>\n",
              "      <td>2010</td>\n",
              "      <td>2015</td>\n",
              "      <td>22</td>\n",
              "      <td>Comedy</td>\n",
              "    </tr>\n",
              "    <tr>\n",
              "      <th>1</th>\n",
              "      <td>tt1344204</td>\n",
              "      <td>tvSeries</td>\n",
              "      <td>Blue Mountain State</td>\n",
              "      <td>Blue Mountain State</td>\n",
              "      <td>0</td>\n",
              "      <td>2010</td>\n",
              "      <td>2011</td>\n",
              "      <td>22</td>\n",
              "      <td>Comedy,Sport</td>\n",
              "    </tr>\n",
              "    <tr>\n",
              "      <th>2</th>\n",
              "      <td>tt1385462</td>\n",
              "      <td>tvShort</td>\n",
              "      <td>The (718)</td>\n",
              "      <td>The (718)</td>\n",
              "      <td>0</td>\n",
              "      <td>2010</td>\n",
              "      <td>\\N</td>\n",
              "      <td>22</td>\n",
              "      <td>Comedy,Drama,Short</td>\n",
              "    </tr>\n",
              "    <tr>\n",
              "      <th>3</th>\n",
              "      <td>tt1415889</td>\n",
              "      <td>tvSeries</td>\n",
              "      <td>Good Luck Charlie</td>\n",
              "      <td>Good Luck Charlie</td>\n",
              "      <td>0</td>\n",
              "      <td>2010</td>\n",
              "      <td>2014</td>\n",
              "      <td>22</td>\n",
              "      <td>Comedy,Drama,Family</td>\n",
              "    </tr>\n",
              "    <tr>\n",
              "      <th>4</th>\n",
              "      <td>tt1479978</td>\n",
              "      <td>tvSeries</td>\n",
              "      <td>Wingin' It</td>\n",
              "      <td>Wingin' It</td>\n",
              "      <td>0</td>\n",
              "      <td>2010</td>\n",
              "      <td>2013</td>\n",
              "      <td>22</td>\n",
              "      <td>Comedy,Family,Fantasy</td>\n",
              "    </tr>\n",
              "    <tr>\n",
              "      <th>5</th>\n",
              "      <td>tt1484498</td>\n",
              "      <td>tvSeries</td>\n",
              "      <td>Svetlana</td>\n",
              "      <td>Svetlana</td>\n",
              "      <td>0</td>\n",
              "      <td>2010</td>\n",
              "      <td>\\N</td>\n",
              "      <td>22</td>\n",
              "      <td>Comedy</td>\n",
              "    </tr>\n",
              "    <tr>\n",
              "      <th>6</th>\n",
              "      <td>tt1492966</td>\n",
              "      <td>tvSeries</td>\n",
              "      <td>Louie</td>\n",
              "      <td>Louie</td>\n",
              "      <td>0</td>\n",
              "      <td>2010</td>\n",
              "      <td>2015</td>\n",
              "      <td>22</td>\n",
              "      <td>Comedy,Drama</td>\n",
              "    </tr>\n",
              "    <tr>\n",
              "      <th>7</th>\n",
              "      <td>tt1571313</td>\n",
              "      <td>tvSeries</td>\n",
              "      <td>Pair of Kings</td>\n",
              "      <td>Pair of Kings</td>\n",
              "      <td>0</td>\n",
              "      <td>2010</td>\n",
              "      <td>2013</td>\n",
              "      <td>22</td>\n",
              "      <td>Comedy,Family,Fantasy</td>\n",
              "    </tr>\n",
              "    <tr>\n",
              "      <th>8</th>\n",
              "      <td>tt1593584</td>\n",
              "      <td>tvSeries</td>\n",
              "      <td>Solsidan</td>\n",
              "      <td>Solsidan</td>\n",
              "      <td>0</td>\n",
              "      <td>2010</td>\n",
              "      <td>\\N</td>\n",
              "      <td>22</td>\n",
              "      <td>Comedy,Drama</td>\n",
              "    </tr>\n",
              "    <tr>\n",
              "      <th>9</th>\n",
              "      <td>tt1610446</td>\n",
              "      <td>tvShort</td>\n",
              "      <td>The Trainer</td>\n",
              "      <td>The Trainer</td>\n",
              "      <td>0</td>\n",
              "      <td>2010</td>\n",
              "      <td>\\N</td>\n",
              "      <td>22</td>\n",
              "      <td>Comedy,Short</td>\n",
              "    </tr>\n",
              "  </tbody>\n",
              "</table>\n",
              "</div>"
            ],
            "text/plain": [
              "       tconst titleType  ... runtimeMinutes                 genres\n",
              "0  tt12152912  tvSeries  ...             22                 Comedy\n",
              "1   tt1344204  tvSeries  ...             22           Comedy,Sport\n",
              "2   tt1385462   tvShort  ...             22     Comedy,Drama,Short\n",
              "3   tt1415889  tvSeries  ...             22    Comedy,Drama,Family\n",
              "4   tt1479978  tvSeries  ...             22  Comedy,Family,Fantasy\n",
              "5   tt1484498  tvSeries  ...             22                 Comedy\n",
              "6   tt1492966  tvSeries  ...             22           Comedy,Drama\n",
              "7   tt1571313  tvSeries  ...             22  Comedy,Family,Fantasy\n",
              "8   tt1593584  tvSeries  ...             22           Comedy,Drama\n",
              "9   tt1610446   tvShort  ...             22           Comedy,Short\n",
              "\n",
              "[10 rows x 9 columns]"
            ]
          },
          "metadata": {}
        }
      ]
    },
    {
      "cell_type": "markdown",
      "metadata": {
        "id": "CYzYjDDn7NKb"
      },
      "source": [
        "## Add new table for Dramas\n",
        "\n",
        "Python allows for string substition with the following expression (new in Python 3.6)"
      ]
    },
    {
      "cell_type": "code",
      "metadata": {
        "id": "vGzKzZE86v8h",
        "colab": {
          "base_uri": "https://localhost:8080/",
          "height": 35
        },
        "outputId": "9fe06806-4990-44f8-f47c-d1bcb8f65e84"
      },
      "source": [
        "# Python string substitution \n",
        "who, where = 'Laura', 'here'\n",
        "temp = f\"{who} is {where}\"\n",
        "temp"
      ],
      "execution_count": null,
      "outputs": [
        {
          "output_type": "execute_result",
          "data": {
            "application/vnd.google.colaboratory.intrinsic+json": {
              "type": "string"
            },
            "text/plain": [
              "'Laura is here'"
            ]
          },
          "metadata": {},
          "execution_count": 28
        }
      ]
    },
    {
      "cell_type": "code",
      "metadata": {
        "id": "-nssCAzGYU1t",
        "colab": {
          "base_uri": "https://localhost:8080/"
        },
        "outputId": "144f79c9-7a0f-4ffa-9429-a90afe59104a"
      },
      "source": [
        "type(temp)"
      ],
      "execution_count": null,
      "outputs": [
        {
          "output_type": "execute_result",
          "data": {
            "text/plain": [
              "str"
            ]
          },
          "metadata": {},
          "execution_count": 29
        }
      ]
    },
    {
      "cell_type": "markdown",
      "metadata": {
        "id": "ceiYDxr27Y53"
      },
      "source": [
        "We will use this to select out information about drama movies.  Then, create a new table titled dramas that we can use in the following questions."
      ]
    },
    {
      "cell_type": "code",
      "metadata": {
        "id": "hPplcaQ37WjW",
        "colab": {
          "base_uri": "https://localhost:8080/"
        },
        "outputId": "9289f32a-414b-479c-a10c-efab2fecf62f"
      },
      "source": [
        "key = 'tconst'\n",
        "title = 'primaryTitle'\n",
        "time = 'runtimeMinutes'\n",
        "year = 'startYear'\n",
        "adult = 'isAdult'\n",
        "kind = 'titleType'\n",
        "\n",
        "select_drama = f'''\n",
        "    SELECT {key} AS id,\n",
        "           {title} AS title, \n",
        "           CAST({time} AS int) AS time, \n",
        "           CAST({year} AS int) AS year\n",
        "    FROM titles\n",
        "    WHERE genres LIKE '%Drama%' AND\n",
        "          year > 1900 AND \n",
        "          year < 2019 AND\n",
        "          {adult} = '0' AND\n",
        "          {kind} = 'movie' AND\n",
        "          time > 60 AND time < 180\n",
        "    '''\n",
        "conn.executescript(f'''\n",
        "    DROP TABLE IF EXISTS dramas;\n",
        "    CREATE TABLE dramas AS {select_drama};\n",
        "    ''')\n",
        "print_sql('SELECT * FROM dramas ORDER BY year DESC LIMIT 10')"
      ],
      "execution_count": null,
      "outputs": [
        {
          "output_type": "stream",
          "name": "stdout",
          "text": [
            "> SELECT * FROM dramas ORDER BY year DESC LIMIT 10\n",
            "('tt0069049', 'The Other Side of the Wind', 122, 2018)\n",
            "('tt0192528', 'Heaven & Hell', 104, 2018)\n",
            "('tt0276568', 'To Chase a Million', 97, 2018)\n",
            "('tt0328810', 'My Land', 102, 2018)\n",
            "('tt0360556', 'Fahrenheit 451', 100, 2018)\n",
            "('tt0365545', 'Nappily Ever After', 98, 2018)\n",
            "('tt0427543', 'A Million Little Pieces', 113, 2018)\n",
            "('tt0825334', 'Caravaggio and My Mother the Pope', 90, 2018)\n",
            "('tt0972544', 'Back Roads', 101, 2018)\n",
            "('tt10004396', 'When I Became a Butterfly', 102, 2018)\n",
            "\n"
          ]
        }
      ]
    },
    {
      "cell_type": "markdown",
      "metadata": {
        "id": "ufVwG4L27wY-"
      },
      "source": [
        "### 5 \n",
        "\n",
        "Select all the dramas, then plot the mean running time of a drama by year.  \n",
        "Use the `pd.read_sql` command to return a DataFrame which you can use to make the plot. "
      ]
    },
    {
      "cell_type": "code",
      "metadata": {
        "colab": {
          "base_uri": "https://localhost:8080/",
          "height": 518
        },
        "id": "FUIkY12exwzy",
        "outputId": "1db7d645-3b9d-499c-aac0-3fba13ef4f4b"
      },
      "source": [
        "df_q5 = pd.read_sql(\"SELECT * FROM dramas\", con=conn)\n",
        "\n",
        "### BEGIN SOLUTION \n",
        "df_q5_count = df_q5.groupby([\"year\"]).mean().reset_index()\n",
        "df_q5_count.plot( kind = 'line', x=\"year\", y=\"time\",\n",
        "                      rot=0, figsize = (10,8),\n",
        "       title = \"Line Chart Showing Mean Run Time Per Year  \",\n",
        "       xlabel = \"Year\",\n",
        "       ylabel = \"Mean Run Time\", fontsize= 15, color = \"green\");\n",
        "\n",
        "### END SOLUTION"
      ],
      "execution_count": null,
      "outputs": [
        {
          "output_type": "display_data",
          "data": {
            "image/png": "[encoded data removed]",
            "text/plain": [
              "<Figure size 720x576 with 1 Axes>"
            ]
          },
          "metadata": {
            "needs_background": "light"
          }
        }
      ]
    },
    {
      "cell_type": "markdown",
      "metadata": {
        "id": "Ly-J6zyZ8CS8"
      },
      "source": [
        "### 6 \n",
        "\n",
        "Calculate the same information average running time of the dramas by year using a query.  Your query should return year and average time.  \n",
        "Your solution should be of the form: \n",
        "```\n",
        "pretty_print_sql(<query>) \n",
        "#or \n",
        "print_sql(<query>)\n",
        "```"
      ]
    },
    {
      "cell_type": "code",
      "metadata": {
        "id": "xgPdW1mE79Fv",
        "colab": {
          "base_uri": "https://localhost:8080/",
          "height": 436
        },
        "outputId": "7454ba55-3ca0-441b-aace-43ace5eecf2b"
      },
      "source": [
        "### BEGIN SOLUTION \n",
        "### BEGIN SOLUTION \n",
        "df_q6 = pretty_print_sql('SELECT year, AVG(time) AS avgTime FROM dramas \\\n",
        "                        GROUP BY year ORDER BY avgTime')\n",
        "### END SOLUTION \n",
        "### END SOLUTION"
      ],
      "execution_count": null,
      "outputs": [
        {
          "output_type": "stream",
          "name": "stdout",
          "text": [
            "> SELECT year, AVG(time) AS avgTime FROM dramas                         GROUP BY year ORDER BY avgTime\n"
          ]
        },
        {
          "output_type": "display_data",
          "data": {
            "text/html": [
              "<div>\n",
              "<style scoped>\n",
              "    .dataframe tbody tr th:only-of-type {\n",
              "        vertical-align: middle;\n",
              "    }\n",
              "\n",
              "    .dataframe tbody tr th {\n",
              "        vertical-align: top;\n",
              "    }\n",
              "\n",
              "    .dataframe thead th {\n",
              "        text-align: right;\n",
              "    }\n",
              "</style>\n",
              "<table border=\"1\" class=\"dataframe\">\n",
              "  <thead>\n",
              "    <tr style=\"text-align: right;\">\n",
              "      <th></th>\n",
              "      <th>year</th>\n",
              "      <th>avgTime</th>\n",
              "    </tr>\n",
              "  </thead>\n",
              "  <tbody>\n",
              "    <tr>\n",
              "      <th>0</th>\n",
              "      <td>1906</td>\n",
              "      <td>70.000000</td>\n",
              "    </tr>\n",
              "    <tr>\n",
              "      <th>1</th>\n",
              "      <td>1915</td>\n",
              "      <td>74.300000</td>\n",
              "    </tr>\n",
              "    <tr>\n",
              "      <th>2</th>\n",
              "      <td>1911</td>\n",
              "      <td>75.500000</td>\n",
              "    </tr>\n",
              "    <tr>\n",
              "      <th>3</th>\n",
              "      <td>1917</td>\n",
              "      <td>78.219512</td>\n",
              "    </tr>\n",
              "    <tr>\n",
              "      <th>4</th>\n",
              "      <td>1933</td>\n",
              "      <td>79.092715</td>\n",
              "    </tr>\n",
              "    <tr>\n",
              "      <th>...</th>\n",
              "      <td>...</td>\n",
              "      <td>...</td>\n",
              "    </tr>\n",
              "    <tr>\n",
              "      <th>105</th>\n",
              "      <td>1989</td>\n",
              "      <td>103.355252</td>\n",
              "    </tr>\n",
              "    <tr>\n",
              "      <th>106</th>\n",
              "      <td>1992</td>\n",
              "      <td>103.362679</td>\n",
              "    </tr>\n",
              "    <tr>\n",
              "      <th>107</th>\n",
              "      <td>1991</td>\n",
              "      <td>103.551451</td>\n",
              "    </tr>\n",
              "    <tr>\n",
              "      <th>108</th>\n",
              "      <td>1999</td>\n",
              "      <td>103.836842</td>\n",
              "    </tr>\n",
              "    <tr>\n",
              "      <th>109</th>\n",
              "      <td>1993</td>\n",
              "      <td>105.049666</td>\n",
              "    </tr>\n",
              "  </tbody>\n",
              "</table>\n",
              "<p>110 rows × 2 columns</p>\n",
              "</div>"
            ],
            "text/plain": [
              "     year     avgTime\n",
              "0    1906   70.000000\n",
              "1    1915   74.300000\n",
              "2    1911   75.500000\n",
              "3    1917   78.219512\n",
              "4    1933   79.092715\n",
              "..    ...         ...\n",
              "105  1989  103.355252\n",
              "106  1992  103.362679\n",
              "107  1991  103.551451\n",
              "108  1999  103.836842\n",
              "109  1993  105.049666\n",
              "\n",
              "[110 rows x 2 columns]"
            ]
          },
          "metadata": {}
        }
      ]
    },
    {
      "cell_type": "markdown",
      "metadata": {
        "id": "usWVs8g_8bJa"
      },
      "source": [
        "## Examine `names` table\n",
        "\n",
        "Let's switch gears to consider the `names` table. "
      ]
    },
    {
      "cell_type": "code",
      "metadata": {
        "id": "itwN6mhO8QIC",
        "colab": {
          "base_uri": "https://localhost:8080/",
          "height": 359
        },
        "outputId": "b1d69baf-6e54-4646-9d3d-fa8699f3c796"
      },
      "source": [
        "pd.read_sql('SELECT DISTINCT * FROM names LIMIT 10;', conn)"
      ],
      "execution_count": null,
      "outputs": [
        {
          "output_type": "execute_result",
          "data": {
            "text/html": [
              "<div>\n",
              "<style scoped>\n",
              "    .dataframe tbody tr th:only-of-type {\n",
              "        vertical-align: middle;\n",
              "    }\n",
              "\n",
              "    .dataframe tbody tr th {\n",
              "        vertical-align: top;\n",
              "    }\n",
              "\n",
              "    .dataframe thead th {\n",
              "        text-align: right;\n",
              "    }\n",
              "</style>\n",
              "<table border=\"1\" class=\"dataframe\">\n",
              "  <thead>\n",
              "    <tr style=\"text-align: right;\">\n",
              "      <th></th>\n",
              "      <th>nconst</th>\n",
              "      <th>primaryName</th>\n",
              "      <th>birthYear</th>\n",
              "      <th>deathYear</th>\n",
              "      <th>primaryProfession</th>\n",
              "      <th>knownForTitles</th>\n",
              "    </tr>\n",
              "  </thead>\n",
              "  <tbody>\n",
              "    <tr>\n",
              "      <th>0</th>\n",
              "      <td>nm0000001</td>\n",
              "      <td>Fred Astaire</td>\n",
              "      <td>1899</td>\n",
              "      <td>1987</td>\n",
              "      <td>soundtrack,actor,miscellaneous</td>\n",
              "      <td>tt0053137,tt0031983,tt0050419,tt0072308</td>\n",
              "    </tr>\n",
              "    <tr>\n",
              "      <th>1</th>\n",
              "      <td>nm0000002</td>\n",
              "      <td>Lauren Bacall</td>\n",
              "      <td>1924</td>\n",
              "      <td>2014</td>\n",
              "      <td>actress,soundtrack</td>\n",
              "      <td>tt0038355,tt0071877,tt0117057,tt0037382</td>\n",
              "    </tr>\n",
              "    <tr>\n",
              "      <th>2</th>\n",
              "      <td>nm0000003</td>\n",
              "      <td>Brigitte Bardot</td>\n",
              "      <td>1934</td>\n",
              "      <td>\\N</td>\n",
              "      <td>actress,soundtrack,music_department</td>\n",
              "      <td>tt0059956,tt0054452,tt0057345,tt0049189</td>\n",
              "    </tr>\n",
              "    <tr>\n",
              "      <th>3</th>\n",
              "      <td>nm0000004</td>\n",
              "      <td>John Belushi</td>\n",
              "      <td>1949</td>\n",
              "      <td>1982</td>\n",
              "      <td>actor,soundtrack,writer</td>\n",
              "      <td>tt0078723,tt0072562,tt0080455,tt0077975</td>\n",
              "    </tr>\n",
              "    <tr>\n",
              "      <th>4</th>\n",
              "      <td>nm0000005</td>\n",
              "      <td>Ingmar Bergman</td>\n",
              "      <td>1918</td>\n",
              "      <td>2007</td>\n",
              "      <td>writer,director,actor</td>\n",
              "      <td>tt0083922,tt0060827,tt0050986,tt0050976</td>\n",
              "    </tr>\n",
              "    <tr>\n",
              "      <th>5</th>\n",
              "      <td>nm0000006</td>\n",
              "      <td>Ingrid Bergman</td>\n",
              "      <td>1915</td>\n",
              "      <td>1982</td>\n",
              "      <td>actress,soundtrack,producer</td>\n",
              "      <td>tt0038787,tt0036855,tt0034583,tt0038109</td>\n",
              "    </tr>\n",
              "    <tr>\n",
              "      <th>6</th>\n",
              "      <td>nm0000007</td>\n",
              "      <td>Humphrey Bogart</td>\n",
              "      <td>1899</td>\n",
              "      <td>1957</td>\n",
              "      <td>actor,soundtrack,producer</td>\n",
              "      <td>tt0034583,tt0040897,tt0043265,tt0037382</td>\n",
              "    </tr>\n",
              "    <tr>\n",
              "      <th>7</th>\n",
              "      <td>nm0000008</td>\n",
              "      <td>Marlon Brando</td>\n",
              "      <td>1924</td>\n",
              "      <td>2004</td>\n",
              "      <td>actor,soundtrack,director</td>\n",
              "      <td>tt0078788,tt0068646,tt0047296,tt0070849</td>\n",
              "    </tr>\n",
              "    <tr>\n",
              "      <th>8</th>\n",
              "      <td>nm0000009</td>\n",
              "      <td>Richard Burton</td>\n",
              "      <td>1925</td>\n",
              "      <td>1984</td>\n",
              "      <td>actor,soundtrack,producer</td>\n",
              "      <td>tt0057877,tt0059749,tt0061184,tt0087803</td>\n",
              "    </tr>\n",
              "    <tr>\n",
              "      <th>9</th>\n",
              "      <td>nm0000010</td>\n",
              "      <td>James Cagney</td>\n",
              "      <td>1899</td>\n",
              "      <td>1986</td>\n",
              "      <td>actor,soundtrack,director</td>\n",
              "      <td>tt0035575,tt0042041,tt0031867,tt0029870</td>\n",
              "    </tr>\n",
              "  </tbody>\n",
              "</table>\n",
              "</div>"
            ],
            "text/plain": [
              "      nconst  ...                           knownForTitles\n",
              "0  nm0000001  ...  tt0053137,tt0031983,tt0050419,tt0072308\n",
              "1  nm0000002  ...  tt0038355,tt0071877,tt0117057,tt0037382\n",
              "2  nm0000003  ...  tt0059956,tt0054452,tt0057345,tt0049189\n",
              "3  nm0000004  ...  tt0078723,tt0072562,tt0080455,tt0077975\n",
              "4  nm0000005  ...  tt0083922,tt0060827,tt0050986,tt0050976\n",
              "5  nm0000006  ...  tt0038787,tt0036855,tt0034583,tt0038109\n",
              "6  nm0000007  ...  tt0034583,tt0040897,tt0043265,tt0037382\n",
              "7  nm0000008  ...  tt0078788,tt0068646,tt0047296,tt0070849\n",
              "8  nm0000009  ...  tt0057877,tt0059749,tt0061184,tt0087803\n",
              "9  nm0000010  ...  tt0035575,tt0042041,tt0031867,tt0029870\n",
              "\n",
              "[10 rows x 6 columns]"
            ]
          },
          "metadata": {},
          "execution_count": 33
        }
      ]
    },
    {
      "cell_type": "markdown",
      "metadata": {
        "id": "9ODPVZDt8klp"
      },
      "source": [
        "We can create a dataFrame of selected information and people.  Only consider actors and actresses, born after 1950, list only their first known movie id. "
      ]
    },
    {
      "cell_type": "code",
      "metadata": {
        "id": "b447jgT28hRn",
        "colab": {
          "base_uri": "https://localhost:8080/",
          "height": 359
        },
        "outputId": "113e39cb-37fd-4bc9-c1fb-af7740759b7b"
      },
      "source": [
        "name = 'primaryName'\n",
        "known = 'knownForTitles'\n",
        "profession = 'primaryProfession'\n",
        "born = 'birthYear'\n",
        "\n",
        "select_actors = f'''\n",
        "    SELECT DISTINCT {name} AS name, \n",
        "           CAST({born} AS int) AS born,\n",
        "           SUBSTR({known}, 0, INSTR({known}, ',')) AS movie_id,\n",
        "           CASE WHEN {profession} LIKE '%actor%' THEN 'actor' \n",
        "                WHEN {profession} LIKE '%actress%' THEN 'actress'   \n",
        "                END AS profession\n",
        "    FROM names\n",
        "    WHERE {profession} LIKE '%act%' AND\n",
        "          born > 1950\n",
        "    '''\n",
        "pd.read_sql(f'{select_actors} LIMIT 10', conn)"
      ],
      "execution_count": null,
      "outputs": [
        {
          "output_type": "execute_result",
          "data": {
            "text/html": [
              "<div>\n",
              "<style scoped>\n",
              "    .dataframe tbody tr th:only-of-type {\n",
              "        vertical-align: middle;\n",
              "    }\n",
              "\n",
              "    .dataframe tbody tr th {\n",
              "        vertical-align: top;\n",
              "    }\n",
              "\n",
              "    .dataframe thead th {\n",
              "        text-align: right;\n",
              "    }\n",
              "</style>\n",
              "<table border=\"1\" class=\"dataframe\">\n",
              "  <thead>\n",
              "    <tr style=\"text-align: right;\">\n",
              "      <th></th>\n",
              "      <th>name</th>\n",
              "      <th>born</th>\n",
              "      <th>movie_id</th>\n",
              "      <th>profession</th>\n",
              "    </tr>\n",
              "  </thead>\n",
              "  <tbody>\n",
              "    <tr>\n",
              "      <th>0</th>\n",
              "      <td>Margaux Hemingway</td>\n",
              "      <td>1954</td>\n",
              "      <td>tt0102122</td>\n",
              "      <td>actress</td>\n",
              "    </tr>\n",
              "    <tr>\n",
              "      <th>1</th>\n",
              "      <td>Li Gong</td>\n",
              "      <td>1965</td>\n",
              "      <td>tt0397535</td>\n",
              "      <td>actress</td>\n",
              "    </tr>\n",
              "    <tr>\n",
              "      <th>2</th>\n",
              "      <td>Elena Koreneva</td>\n",
              "      <td>1953</td>\n",
              "      <td>tt7529350</td>\n",
              "      <td>actress</td>\n",
              "    </tr>\n",
              "    <tr>\n",
              "      <th>3</th>\n",
              "      <td>Brad Pitt</td>\n",
              "      <td>1963</td>\n",
              "      <td>tt0114746</td>\n",
              "      <td>actor</td>\n",
              "    </tr>\n",
              "    <tr>\n",
              "      <th>4</th>\n",
              "      <td>Gillian Anderson</td>\n",
              "      <td>1968</td>\n",
              "      <td>tt2294189</td>\n",
              "      <td>actress</td>\n",
              "    </tr>\n",
              "    <tr>\n",
              "      <th>5</th>\n",
              "      <td>Pamela Anderson</td>\n",
              "      <td>1967</td>\n",
              "      <td>tt0426592</td>\n",
              "      <td>actress</td>\n",
              "    </tr>\n",
              "    <tr>\n",
              "      <th>6</th>\n",
              "      <td>Jennifer Aniston</td>\n",
              "      <td>1969</td>\n",
              "      <td>tt0108778</td>\n",
              "      <td>actress</td>\n",
              "    </tr>\n",
              "    <tr>\n",
              "      <th>7</th>\n",
              "      <td>Patricia Arquette</td>\n",
              "      <td>1968</td>\n",
              "      <td>tt1065073</td>\n",
              "      <td>actress</td>\n",
              "    </tr>\n",
              "    <tr>\n",
              "      <th>8</th>\n",
              "      <td>Rowan Atkinson</td>\n",
              "      <td>1955</td>\n",
              "      <td>tt0110357</td>\n",
              "      <td>actor</td>\n",
              "    </tr>\n",
              "    <tr>\n",
              "      <th>9</th>\n",
              "      <td>Dan Aykroyd</td>\n",
              "      <td>1952</td>\n",
              "      <td>tt0080455</td>\n",
              "      <td>actor</td>\n",
              "    </tr>\n",
              "  </tbody>\n",
              "</table>\n",
              "</div>"
            ],
            "text/plain": [
              "                name  born   movie_id profession\n",
              "0  Margaux Hemingway  1954  tt0102122    actress\n",
              "1            Li Gong  1965  tt0397535    actress\n",
              "2     Elena Koreneva  1953  tt7529350    actress\n",
              "3          Brad Pitt  1963  tt0114746      actor\n",
              "4   Gillian Anderson  1968  tt2294189    actress\n",
              "5    Pamela Anderson  1967  tt0426592    actress\n",
              "6   Jennifer Aniston  1969  tt0108778    actress\n",
              "7  Patricia Arquette  1968  tt1065073    actress\n",
              "8     Rowan Atkinson  1955  tt0110357      actor\n",
              "9        Dan Aykroyd  1952  tt0080455      actor"
            ]
          },
          "metadata": {},
          "execution_count": 34
        }
      ]
    },
    {
      "cell_type": "markdown",
      "metadata": {
        "id": "Q7I_0DRR9B41"
      },
      "source": [
        "### 7\n",
        "\n",
        "Create a new table `dramatics` that joins the `select_actors` (from query above) with the `dramas` table by `movie_id` and returns the actor's `name`, `profession`, year `born` as well as their movie they are known for `title` and `year` it was released. \n",
        "\n",
        "Return 10 sorted by ascending year born.\n",
        "\n",
        "Consider the `select_actors` query as a subquery.  Take a look at the information here on subqueries and the examples: https://www.sqlitetutorial.net/sqlite-subquery/\n",
        "or https://www.w3resource.com/sqlite/sqlite-subqueries.php "
      ]
    },
    {
      "cell_type": "code",
      "metadata": {
        "colab": {
          "base_uri": "https://localhost:8080/"
        },
        "id": "Rm9nbDhf7eLZ",
        "outputId": "2f7a9056-d597-4373-dfc3-336e3c4d7865"
      },
      "source": [
        "### BEGIN SOLUTION \n",
        "dramatic_7 = f\"\"\"SELECT name, profession, born, title, year \\\n",
        "             FROM ({select_actors}) actors JOIN dramas ON\n",
        "             actors.movie_id = dramas.id;\n",
        "             \"\"\"\n",
        "# Creating a table dramatics from actors and dramas\n",
        "conn.executescript(f'''\n",
        "    DROP TABLE IF EXISTS dramatics;\n",
        "    CREATE TABLE dramatics AS {dramatic_7};\n",
        "''');\n",
        "print_sql('SELECT * FROM dramatics ORDER BY year  LIMIT 10')\n",
        "### END SOLUTION "
      ],
      "execution_count": null,
      "outputs": [
        {
          "output_type": "stream",
          "name": "stdout",
          "text": [
            "> SELECT * FROM dramatics ORDER BY year  LIMIT 10\n",
            "('Adam Ant', 'actor', 1954, 'Metropolis', 1927)\n",
            "('Harvey M. Guzik', 'actor', 1952, 'Plymouth Adventure', 1952)\n",
            "('Dominique Vincent', 'actress', 1951, 'Il prigioniero del re', 1954)\n",
            "('Bridget Duff', 'actress', 1952, 'Private Hell 36', 1954)\n",
            "('Susie Mathers', 'actress', 1951, 'This Is My Love', 1954)\n",
            "('Ivana Hoffmann', 'actress', 1995, 'A Real Woman', 1954)\n",
            "('Columba Powell', 'actor', 1951, 'Pursuit of the Graf Spee', 1956)\n",
            "('Tito Romalio', 'actor', 1951, 'Priklyucheniya Artyomki', 1956)\n",
            "('Keith Coyne', 'actor', 1956, 'Fear Strikes Out', 1957)\n",
            "('Cordelia Monsey', 'actress', 1956, 'Woman in a Dressing Gown', 1957)\n",
            "\n"
          ]
        }
      ]
    },
    {
      "cell_type": "code",
      "metadata": {
        "id": "McFwySjP86D6",
        "colab": {
          "base_uri": "https://localhost:8080/",
          "height": 376
        },
        "outputId": "b48b1b68-610f-4906-d3c6-ea7ea44dd9f4"
      },
      "source": [
        "### Creating the dataFrame to display the results\n",
        "df_q7 = pretty_print_sql('SELECT * FROM dramatics ORDER BY year  LIMIT 10')\n",
        "df_q7\n"
      ],
      "execution_count": null,
      "outputs": [
        {
          "output_type": "stream",
          "name": "stdout",
          "text": [
            "> SELECT * FROM dramatics ORDER BY year  LIMIT 10\n"
          ]
        },
        {
          "output_type": "display_data",
          "data": {
            "text/html": [
              "<div>\n",
              "<style scoped>\n",
              "    .dataframe tbody tr th:only-of-type {\n",
              "        vertical-align: middle;\n",
              "    }\n",
              "\n",
              "    .dataframe tbody tr th {\n",
              "        vertical-align: top;\n",
              "    }\n",
              "\n",
              "    .dataframe thead th {\n",
              "        text-align: right;\n",
              "    }\n",
              "</style>\n",
              "<table border=\"1\" class=\"dataframe\">\n",
              "  <thead>\n",
              "    <tr style=\"text-align: right;\">\n",
              "      <th></th>\n",
              "      <th>name</th>\n",
              "      <th>profession</th>\n",
              "      <th>born</th>\n",
              "      <th>title</th>\n",
              "      <th>year</th>\n",
              "    </tr>\n",
              "  </thead>\n",
              "  <tbody>\n",
              "    <tr>\n",
              "      <th>0</th>\n",
              "      <td>Adam Ant</td>\n",
              "      <td>actor</td>\n",
              "      <td>1954</td>\n",
              "      <td>Metropolis</td>\n",
              "      <td>1927</td>\n",
              "    </tr>\n",
              "    <tr>\n",
              "      <th>1</th>\n",
              "      <td>Harvey M. Guzik</td>\n",
              "      <td>actor</td>\n",
              "      <td>1952</td>\n",
              "      <td>Plymouth Adventure</td>\n",
              "      <td>1952</td>\n",
              "    </tr>\n",
              "    <tr>\n",
              "      <th>2</th>\n",
              "      <td>Dominique Vincent</td>\n",
              "      <td>actress</td>\n",
              "      <td>1951</td>\n",
              "      <td>Il prigioniero del re</td>\n",
              "      <td>1954</td>\n",
              "    </tr>\n",
              "    <tr>\n",
              "      <th>3</th>\n",
              "      <td>Bridget Duff</td>\n",
              "      <td>actress</td>\n",
              "      <td>1952</td>\n",
              "      <td>Private Hell 36</td>\n",
              "      <td>1954</td>\n",
              "    </tr>\n",
              "    <tr>\n",
              "      <th>4</th>\n",
              "      <td>Susie Mathers</td>\n",
              "      <td>actress</td>\n",
              "      <td>1951</td>\n",
              "      <td>This Is My Love</td>\n",
              "      <td>1954</td>\n",
              "    </tr>\n",
              "    <tr>\n",
              "      <th>5</th>\n",
              "      <td>Ivana Hoffmann</td>\n",
              "      <td>actress</td>\n",
              "      <td>1995</td>\n",
              "      <td>A Real Woman</td>\n",
              "      <td>1954</td>\n",
              "    </tr>\n",
              "    <tr>\n",
              "      <th>6</th>\n",
              "      <td>Columba Powell</td>\n",
              "      <td>actor</td>\n",
              "      <td>1951</td>\n",
              "      <td>Pursuit of the Graf Spee</td>\n",
              "      <td>1956</td>\n",
              "    </tr>\n",
              "    <tr>\n",
              "      <th>7</th>\n",
              "      <td>Tito Romalio</td>\n",
              "      <td>actor</td>\n",
              "      <td>1951</td>\n",
              "      <td>Priklyucheniya Artyomki</td>\n",
              "      <td>1956</td>\n",
              "    </tr>\n",
              "    <tr>\n",
              "      <th>8</th>\n",
              "      <td>Keith Coyne</td>\n",
              "      <td>actor</td>\n",
              "      <td>1956</td>\n",
              "      <td>Fear Strikes Out</td>\n",
              "      <td>1957</td>\n",
              "    </tr>\n",
              "    <tr>\n",
              "      <th>9</th>\n",
              "      <td>Cordelia Monsey</td>\n",
              "      <td>actress</td>\n",
              "      <td>1956</td>\n",
              "      <td>Woman in a Dressing Gown</td>\n",
              "      <td>1957</td>\n",
              "    </tr>\n",
              "  </tbody>\n",
              "</table>\n",
              "</div>"
            ],
            "text/plain": [
              "                name profession  born                     title  year\n",
              "0           Adam Ant      actor  1954                Metropolis  1927\n",
              "1    Harvey M. Guzik      actor  1952        Plymouth Adventure  1952\n",
              "2  Dominique Vincent    actress  1951     Il prigioniero del re  1954\n",
              "3       Bridget Duff    actress  1952           Private Hell 36  1954\n",
              "4      Susie Mathers    actress  1951           This Is My Love  1954\n",
              "5     Ivana Hoffmann    actress  1995              A Real Woman  1954\n",
              "6     Columba Powell      actor  1951  Pursuit of the Graf Spee  1956\n",
              "7       Tito Romalio      actor  1951   Priklyucheniya Artyomki  1956\n",
              "8        Keith Coyne      actor  1956          Fear Strikes Out  1957\n",
              "9    Cordelia Monsey    actress  1956  Woman in a Dressing Gown  1957"
            ]
          },
          "metadata": {}
        }
      ]
    },
    {
      "cell_type": "markdown",
      "metadata": {
        "id": "vPyyyiJYTZP2"
      },
      "source": [
        "## Add new table `name_to_title`\n",
        "\n",
        "Note, both the `titles` and `names` tables have fields that contains array of items, e.g., `names`- `knownForTitles`, `names` - `primaryProfession`, `titles` - `genres`, etc. \n",
        "\n",
        "We saw in Example 2A and Question 5 we can still extract rows that match a certain genre, e.g., \"%Drama%\".  Or, in Example 2B, we can select the first title that an person is known for.  \n",
        "\n",
        "However, classic relational database design should not contain lists of items in a field.  Therefore, we will expand out these fields to new tables. \n",
        "\n",
        "First, we will add a new table `name_to_title` that matches each name id `nconst` with the title id `tconst`.\n",
        "\n",
        "\n",
        "\n"
      ]
    },
    {
      "cell_type": "code",
      "metadata": {
        "id": "R2jjlYblY50-",
        "colab": {
          "base_uri": "https://localhost:8080/"
        },
        "outputId": "d71996d0-62a3-444a-9a59-11fba780295c"
      },
      "source": [
        "cursor = conn.cursor()\n",
        "cursor.execute(\"\"\"Select * from names\"\"\")\n",
        "all_data = cursor.fetchall()\n",
        "cursor.execute(\"\"\"CREATE TABLE IF NOT EXISTS name_to_title\n",
        "                    (nconst TEXT,\n",
        "                    tconst TEXT)\"\"\")\n"
      ],
      "execution_count": null,
      "outputs": [
        {
          "output_type": "execute_result",
          "data": {
            "text/plain": [
              "<sqlite3.Cursor at 0x7fc63029e5e0>"
            ]
          },
          "metadata": {},
          "execution_count": 38
        }
      ]
    },
    {
      "cell_type": "code",
      "metadata": {
        "id": "i95RV55CkYcA"
      },
      "source": [
        "for single_data in all_data:\n",
        "    person  = single_data[5].split(\",\")\n",
        "    for single_data2 in person:\n",
        "        cursor.execute(\"INSERT INTO name_to_title VALUES(:nconst,:tconst)\",\n",
        "                       { \"nconst\": single_data[0], \"tconst\": single_data2 })\n",
        "conn.commit()"
      ],
      "execution_count": null,
      "outputs": []
    },
    {
      "cell_type": "code",
      "metadata": {
        "id": "oHDT4hOAYq-5",
        "colab": {
          "base_uri": "https://localhost:8080/"
        },
        "outputId": "39e0b311-de7a-4e4e-f485-7d36b0902708"
      },
      "source": [
        "print_sql('SELECT * FROM name_to_title LIMIT 10;')"
      ],
      "execution_count": null,
      "outputs": [
        {
          "output_type": "stream",
          "name": "stdout",
          "text": [
            "> SELECT * FROM name_to_title LIMIT 10;\n",
            "('nm0000001', 'tt0053137')\n",
            "('nm0000001', 'tt0031983')\n",
            "('nm0000001', 'tt0050419')\n",
            "('nm0000001', 'tt0072308')\n",
            "('nm0000002', 'tt0038355')\n",
            "('nm0000002', 'tt0071877')\n",
            "('nm0000002', 'tt0117057')\n",
            "('nm0000002', 'tt0037382')\n",
            "('nm0000003', 'tt0059956')\n",
            "('nm0000003', 'tt0054452')\n",
            "\n"
          ]
        }
      ]
    },
    {
      "cell_type": "markdown",
      "metadata": {
        "id": "Ztn3Z37JAnrc"
      },
      "source": [
        "We can also separate out the list of professions to a separate table `name_to_profession`. "
      ]
    },
    {
      "cell_type": "code",
      "metadata": {
        "id": "iNEDzHrw6Udw",
        "colab": {
          "base_uri": "https://localhost:8080/"
        },
        "outputId": "d62ca307-474f-4aae-c1f2-5b49084a5b8a"
      },
      "source": [
        "cursor = conn.cursor()\n",
        "cursor.execute(\"\"\"Select * from names\"\"\")\n",
        "all_data = cursor.fetchall()\n",
        "cursor.execute(\"\"\"CREATE TABLE IF NOT EXISTS name_to_profession\n",
        "                    (nconst TEXT,\n",
        "                    profession TEXT)\"\"\")"
      ],
      "execution_count": null,
      "outputs": [
        {
          "output_type": "execute_result",
          "data": {
            "text/plain": [
              "<sqlite3.Cursor at 0x7fc4f15a4f10>"
            ]
          },
          "metadata": {},
          "execution_count": 41
        }
      ]
    },
    {
      "cell_type": "code",
      "metadata": {
        "id": "B_dgOzRh69Eh"
      },
      "source": [
        "for single_data in all_data:\n",
        "    person  = single_data[4].split(\",\")\n",
        "    for single_data2 in person:\n",
        "        cursor.execute(\"INSERT INTO name_to_profession VALUES(:nconst,:prof)\",\n",
        "                       { \"nconst\": single_data[0], \"prof\": single_data2 })\n",
        "conn.commit()"
      ],
      "execution_count": null,
      "outputs": []
    },
    {
      "cell_type": "code",
      "metadata": {
        "id": "xmiHQ8699b-u",
        "colab": {
          "base_uri": "https://localhost:8080/"
        },
        "outputId": "207bead3-e009-45a2-d57f-6c56c4c7f6ce"
      },
      "source": [
        "print_sql('SELECT * FROM name_to_profession LIMIT 10;')"
      ],
      "execution_count": null,
      "outputs": [
        {
          "output_type": "stream",
          "name": "stdout",
          "text": [
            "> SELECT * FROM name_to_profession LIMIT 10;\n",
            "('nm0000001', 'soundtrack')\n",
            "('nm0000001', 'actor')\n",
            "('nm0000001', 'miscellaneous')\n",
            "('nm0000002', 'actress')\n",
            "('nm0000002', 'soundtrack')\n",
            "('nm0000003', 'actress')\n",
            "('nm0000003', 'soundtrack')\n",
            "('nm0000003', 'music_department')\n",
            "('nm0000004', 'actor')\n",
            "('nm0000004', 'soundtrack')\n",
            "\n"
          ]
        }
      ]
    },
    {
      "cell_type": "code",
      "metadata": {
        "id": "2SCJrGy59nGD"
      },
      "source": [
        "# Clean up variables (reduce memory usage)\n",
        "del all_data"
      ],
      "execution_count": null,
      "outputs": []
    },
    {
      "cell_type": "markdown",
      "metadata": {
        "id": "DNqaJ9E--UM8"
      },
      "source": [
        "## Age of Actors in Films \n",
        "\n",
        "We are now interested in looking at the age of actors (both actors and actresses) in movies. \n",
        "\n",
        "We can start to look at this by first examining the actors and actresses. \n",
        "\n"
      ]
    },
    {
      "cell_type": "code",
      "metadata": {
        "id": "pkWAljmnBLjX",
        "colab": {
          "base_uri": "https://localhost:8080/",
          "height": 546
        },
        "outputId": "8f1ece89-a6a9-46c8-d56c-79cf984d2c61"
      },
      "source": [
        "pretty_print_sql(\"\"\"\n",
        "SELECT n.nconst, \n",
        "    n.primaryName AS name, \n",
        "    n.birthYear AS born,\n",
        "    ntp.profession\n",
        "FROM names n, name_to_profession ntp\n",
        "WHERE \n",
        "    n.nconst = ntp.nconst AND\n",
        "    (ntp.profession = 'actor' OR ntp.profession = 'actress') \n",
        "LIMIT 10;\n",
        "\"\"\")"
      ],
      "execution_count": null,
      "outputs": [
        {
          "output_type": "stream",
          "name": "stdout",
          "text": [
            "> \n",
            "SELECT n.nconst, \n",
            "    n.primaryName AS name, \n",
            "    n.birthYear AS born,\n",
            "    ntp.profession\n",
            "FROM names n, name_to_profession ntp\n",
            "WHERE \n",
            "    n.nconst = ntp.nconst AND\n",
            "    (ntp.profession = 'actor' OR ntp.profession = 'actress') \n",
            "LIMIT 10;\n",
            "\n"
          ]
        },
        {
          "output_type": "display_data",
          "data": {
            "text/html": [
              "<div>\n",
              "<style scoped>\n",
              "    .dataframe tbody tr th:only-of-type {\n",
              "        vertical-align: middle;\n",
              "    }\n",
              "\n",
              "    .dataframe tbody tr th {\n",
              "        vertical-align: top;\n",
              "    }\n",
              "\n",
              "    .dataframe thead th {\n",
              "        text-align: right;\n",
              "    }\n",
              "</style>\n",
              "<table border=\"1\" class=\"dataframe\">\n",
              "  <thead>\n",
              "    <tr style=\"text-align: right;\">\n",
              "      <th></th>\n",
              "      <th>nconst</th>\n",
              "      <th>name</th>\n",
              "      <th>born</th>\n",
              "      <th>profession</th>\n",
              "    </tr>\n",
              "  </thead>\n",
              "  <tbody>\n",
              "    <tr>\n",
              "      <th>0</th>\n",
              "      <td>nm0000001</td>\n",
              "      <td>Fred Astaire</td>\n",
              "      <td>1899</td>\n",
              "      <td>actor</td>\n",
              "    </tr>\n",
              "    <tr>\n",
              "      <th>1</th>\n",
              "      <td>nm0000002</td>\n",
              "      <td>Lauren Bacall</td>\n",
              "      <td>1924</td>\n",
              "      <td>actress</td>\n",
              "    </tr>\n",
              "    <tr>\n",
              "      <th>2</th>\n",
              "      <td>nm0000003</td>\n",
              "      <td>Brigitte Bardot</td>\n",
              "      <td>1934</td>\n",
              "      <td>actress</td>\n",
              "    </tr>\n",
              "    <tr>\n",
              "      <th>3</th>\n",
              "      <td>nm0000004</td>\n",
              "      <td>John Belushi</td>\n",
              "      <td>1949</td>\n",
              "      <td>actor</td>\n",
              "    </tr>\n",
              "    <tr>\n",
              "      <th>4</th>\n",
              "      <td>nm0000005</td>\n",
              "      <td>Ingmar Bergman</td>\n",
              "      <td>1918</td>\n",
              "      <td>actor</td>\n",
              "    </tr>\n",
              "    <tr>\n",
              "      <th>5</th>\n",
              "      <td>nm0000006</td>\n",
              "      <td>Ingrid Bergman</td>\n",
              "      <td>1915</td>\n",
              "      <td>actress</td>\n",
              "    </tr>\n",
              "    <tr>\n",
              "      <th>6</th>\n",
              "      <td>nm0000007</td>\n",
              "      <td>Humphrey Bogart</td>\n",
              "      <td>1899</td>\n",
              "      <td>actor</td>\n",
              "    </tr>\n",
              "    <tr>\n",
              "      <th>7</th>\n",
              "      <td>nm0000008</td>\n",
              "      <td>Marlon Brando</td>\n",
              "      <td>1924</td>\n",
              "      <td>actor</td>\n",
              "    </tr>\n",
              "    <tr>\n",
              "      <th>8</th>\n",
              "      <td>nm0000009</td>\n",
              "      <td>Richard Burton</td>\n",
              "      <td>1925</td>\n",
              "      <td>actor</td>\n",
              "    </tr>\n",
              "    <tr>\n",
              "      <th>9</th>\n",
              "      <td>nm0000010</td>\n",
              "      <td>James Cagney</td>\n",
              "      <td>1899</td>\n",
              "      <td>actor</td>\n",
              "    </tr>\n",
              "  </tbody>\n",
              "</table>\n",
              "</div>"
            ],
            "text/plain": [
              "      nconst             name  born profession\n",
              "0  nm0000001     Fred Astaire  1899      actor\n",
              "1  nm0000002    Lauren Bacall  1924    actress\n",
              "2  nm0000003  Brigitte Bardot  1934    actress\n",
              "3  nm0000004     John Belushi  1949      actor\n",
              "4  nm0000005   Ingmar Bergman  1918      actor\n",
              "5  nm0000006   Ingrid Bergman  1915    actress\n",
              "6  nm0000007  Humphrey Bogart  1899      actor\n",
              "7  nm0000008    Marlon Brando  1924      actor\n",
              "8  nm0000009   Richard Burton  1925      actor\n",
              "9  nm0000010     James Cagney  1899      actor"
            ]
          },
          "metadata": {}
        }
      ]
    },
    {
      "cell_type": "markdown",
      "metadata": {
        "id": "3XvAiPH3BohB"
      },
      "source": [
        "Next we want to examine the age of actors in different movies.  This means we need to combine the `actor` information with the date of the films.  \n",
        "\n",
        "We can use a [Common Table Expression](https://www.essentialsql.com/introduction-common-table-expressions-ctes/). "
      ]
    },
    {
      "cell_type": "code",
      "metadata": {
        "id": "tZAy8zKrwV4t",
        "colab": {
          "base_uri": "https://localhost:8080/",
          "height": 801
        },
        "outputId": "1989891f-65e5-4ff5-bcb6-3534c9c04056"
      },
      "source": [
        "pretty_print_sql(\"\"\"\n",
        "WITH actors AS (\n",
        "    SELECT n.nconst, \n",
        "        n.primaryName AS name, \n",
        "        n.birthYear AS born,\n",
        "        ntp.profession\n",
        "    FROM names n, name_to_profession ntp\n",
        "    WHERE \n",
        "        n.nconst = ntp.nconst AND\n",
        "        (ntp.profession = 'actor' OR ntp.profession = 'actress') \n",
        "    )\n",
        "SELECT \n",
        "    a.nconst,\n",
        "    a.name,\n",
        "    t.startYear - a.born AS age,\n",
        "    t.startYear,\n",
        "    t.primaryTitle,\n",
        "    a.profession\n",
        "FROM \n",
        "    actors a, \n",
        "    name_to_title nt, \n",
        "    titles t\n",
        "WHERE \n",
        "    a.nconst = nt.nconst AND nt.tconst = t.tconst \n",
        "LIMIT 10;\n",
        "\"\"\")"
      ],
      "execution_count": null,
      "outputs": [
        {
          "output_type": "stream",
          "name": "stdout",
          "text": [
            "> \n",
            "WITH actors AS (\n",
            "    SELECT n.nconst, \n",
            "        n.primaryName AS name, \n",
            "        n.birthYear AS born,\n",
            "        ntp.profession\n",
            "    FROM names n, name_to_profession ntp\n",
            "    WHERE \n",
            "        n.nconst = ntp.nconst AND\n",
            "        (ntp.profession = 'actor' OR ntp.profession = 'actress') \n",
            "    )\n",
            "SELECT \n",
            "    a.nconst,\n",
            "    a.name,\n",
            "    t.startYear - a.born AS age,\n",
            "    t.startYear,\n",
            "    t.primaryTitle,\n",
            "    a.profession\n",
            "FROM \n",
            "    actors a, \n",
            "    name_to_title nt, \n",
            "    titles t\n",
            "WHERE \n",
            "    a.nconst = nt.nconst AND nt.tconst = t.tconst \n",
            "LIMIT 10;\n",
            "\n"
          ]
        },
        {
          "output_type": "display_data",
          "data": {
            "text/html": [
              "<div>\n",
              "<style scoped>\n",
              "    .dataframe tbody tr th:only-of-type {\n",
              "        vertical-align: middle;\n",
              "    }\n",
              "\n",
              "    .dataframe tbody tr th {\n",
              "        vertical-align: top;\n",
              "    }\n",
              "\n",
              "    .dataframe thead th {\n",
              "        text-align: right;\n",
              "    }\n",
              "</style>\n",
              "<table border=\"1\" class=\"dataframe\">\n",
              "  <thead>\n",
              "    <tr style=\"text-align: right;\">\n",
              "      <th></th>\n",
              "      <th>nconst</th>\n",
              "      <th>name</th>\n",
              "      <th>age</th>\n",
              "      <th>startYear</th>\n",
              "      <th>primaryTitle</th>\n",
              "      <th>profession</th>\n",
              "    </tr>\n",
              "  </thead>\n",
              "  <tbody>\n",
              "    <tr>\n",
              "      <th>0</th>\n",
              "      <td>nm0000001</td>\n",
              "      <td>Fred Astaire</td>\n",
              "      <td>40</td>\n",
              "      <td>1939</td>\n",
              "      <td>The Story of Vernon and Irene Castle</td>\n",
              "      <td>actor</td>\n",
              "    </tr>\n",
              "    <tr>\n",
              "      <th>1</th>\n",
              "      <td>nm0000001</td>\n",
              "      <td>Fred Astaire</td>\n",
              "      <td>58</td>\n",
              "      <td>1957</td>\n",
              "      <td>Funny Face</td>\n",
              "      <td>actor</td>\n",
              "    </tr>\n",
              "    <tr>\n",
              "      <th>2</th>\n",
              "      <td>nm0000001</td>\n",
              "      <td>Fred Astaire</td>\n",
              "      <td>60</td>\n",
              "      <td>1959</td>\n",
              "      <td>On the Beach</td>\n",
              "      <td>actor</td>\n",
              "    </tr>\n",
              "    <tr>\n",
              "      <th>3</th>\n",
              "      <td>nm0000001</td>\n",
              "      <td>Fred Astaire</td>\n",
              "      <td>75</td>\n",
              "      <td>1974</td>\n",
              "      <td>The Towering Inferno</td>\n",
              "      <td>actor</td>\n",
              "    </tr>\n",
              "    <tr>\n",
              "      <th>4</th>\n",
              "      <td>nm0000002</td>\n",
              "      <td>Lauren Bacall</td>\n",
              "      <td>20</td>\n",
              "      <td>1944</td>\n",
              "      <td>To Have and Have Not</td>\n",
              "      <td>actress</td>\n",
              "    </tr>\n",
              "    <tr>\n",
              "      <th>5</th>\n",
              "      <td>nm0000002</td>\n",
              "      <td>Lauren Bacall</td>\n",
              "      <td>22</td>\n",
              "      <td>1946</td>\n",
              "      <td>The Big Sleep</td>\n",
              "      <td>actress</td>\n",
              "    </tr>\n",
              "    <tr>\n",
              "      <th>6</th>\n",
              "      <td>nm0000002</td>\n",
              "      <td>Lauren Bacall</td>\n",
              "      <td>50</td>\n",
              "      <td>1974</td>\n",
              "      <td>Murder on the Orient Express</td>\n",
              "      <td>actress</td>\n",
              "    </tr>\n",
              "    <tr>\n",
              "      <th>7</th>\n",
              "      <td>nm0000002</td>\n",
              "      <td>Lauren Bacall</td>\n",
              "      <td>72</td>\n",
              "      <td>1996</td>\n",
              "      <td>The Mirror Has Two Faces</td>\n",
              "      <td>actress</td>\n",
              "    </tr>\n",
              "    <tr>\n",
              "      <th>8</th>\n",
              "      <td>nm0000003</td>\n",
              "      <td>Brigitte Bardot</td>\n",
              "      <td>22</td>\n",
              "      <td>1956</td>\n",
              "      <td>...And God Created Woman</td>\n",
              "      <td>actress</td>\n",
              "    </tr>\n",
              "    <tr>\n",
              "      <th>9</th>\n",
              "      <td>nm0000003</td>\n",
              "      <td>Brigitte Bardot</td>\n",
              "      <td>26</td>\n",
              "      <td>1960</td>\n",
              "      <td>La Vérité</td>\n",
              "      <td>actress</td>\n",
              "    </tr>\n",
              "  </tbody>\n",
              "</table>\n",
              "</div>"
            ],
            "text/plain": [
              "      nconst             name  ...                          primaryTitle profession\n",
              "0  nm0000001     Fred Astaire  ...  The Story of Vernon and Irene Castle      actor\n",
              "1  nm0000001     Fred Astaire  ...                            Funny Face      actor\n",
              "2  nm0000001     Fred Astaire  ...                          On the Beach      actor\n",
              "3  nm0000001     Fred Astaire  ...                  The Towering Inferno      actor\n",
              "4  nm0000002    Lauren Bacall  ...                  To Have and Have Not    actress\n",
              "5  nm0000002    Lauren Bacall  ...                         The Big Sleep    actress\n",
              "6  nm0000002    Lauren Bacall  ...          Murder on the Orient Express    actress\n",
              "7  nm0000002    Lauren Bacall  ...              The Mirror Has Two Faces    actress\n",
              "8  nm0000003  Brigitte Bardot  ...              ...And God Created Woman    actress\n",
              "9  nm0000003  Brigitte Bardot  ...                             La Vérité    actress\n",
              "\n",
              "[10 rows x 6 columns]"
            ]
          },
          "metadata": {}
        }
      ]
    },
    {
      "cell_type": "markdown",
      "metadata": {
        "id": "tvJ2OxNTDGkQ"
      },
      "source": [
        "We can use \"format strings\" to plug into the queries. "
      ]
    },
    {
      "cell_type": "code",
      "metadata": {
        "id": "c1WV6neqDR9T"
      },
      "source": [
        "actors_query = \"\"\"\n",
        "SELECT n.nconst, \n",
        "    n.primaryName AS name, \n",
        "    n.birthYear AS born,\n",
        "    ntp.profession\n",
        "FROM names n, name_to_profession ntp\n",
        "WHERE \n",
        "    n.nconst = ntp.nconst AND\n",
        "    (ntp.profession = 'actor' OR ntp.profession = 'actress') \n",
        "\"\"\""
      ],
      "execution_count": null,
      "outputs": []
    },
    {
      "cell_type": "code",
      "metadata": {
        "id": "MJaq8okODcuy",
        "colab": {
          "base_uri": "https://localhost:8080/",
          "height": 801
        },
        "outputId": "242df9fb-774d-45b8-e218-1ce56c0d341d"
      },
      "source": [
        "pretty_print_sql(f\"\"\"\n",
        "WITH actors AS ({actors_query})\n",
        "SELECT \n",
        "    a.nconst,\n",
        "    a.name,\n",
        "    t.startYear - a.born AS age,\n",
        "    t.startYear,\n",
        "    t.primaryTitle,\n",
        "    a.profession\n",
        "FROM \n",
        "    actors a, \n",
        "    name_to_title nt, \n",
        "    titles t\n",
        "WHERE \n",
        "    a.nconst = nt.nconst AND nt.tconst = t.tconst \n",
        "LIMIT 10;\n",
        "\"\"\")"
      ],
      "execution_count": null,
      "outputs": [
        {
          "output_type": "stream",
          "name": "stdout",
          "text": [
            "> \n",
            "WITH actors AS (\n",
            "SELECT n.nconst, \n",
            "    n.primaryName AS name, \n",
            "    n.birthYear AS born,\n",
            "    ntp.profession\n",
            "FROM names n, name_to_profession ntp\n",
            "WHERE \n",
            "    n.nconst = ntp.nconst AND\n",
            "    (ntp.profession = 'actor' OR ntp.profession = 'actress') \n",
            ")\n",
            "SELECT \n",
            "    a.nconst,\n",
            "    a.name,\n",
            "    t.startYear - a.born AS age,\n",
            "    t.startYear,\n",
            "    t.primaryTitle,\n",
            "    a.profession\n",
            "FROM \n",
            "    actors a, \n",
            "    name_to_title nt, \n",
            "    titles t\n",
            "WHERE \n",
            "    a.nconst = nt.nconst AND nt.tconst = t.tconst \n",
            "LIMIT 10;\n",
            "\n"
          ]
        },
        {
          "output_type": "display_data",
          "data": {
            "text/html": [
              "<div>\n",
              "<style scoped>\n",
              "    .dataframe tbody tr th:only-of-type {\n",
              "        vertical-align: middle;\n",
              "    }\n",
              "\n",
              "    .dataframe tbody tr th {\n",
              "        vertical-align: top;\n",
              "    }\n",
              "\n",
              "    .dataframe thead th {\n",
              "        text-align: right;\n",
              "    }\n",
              "</style>\n",
              "<table border=\"1\" class=\"dataframe\">\n",
              "  <thead>\n",
              "    <tr style=\"text-align: right;\">\n",
              "      <th></th>\n",
              "      <th>nconst</th>\n",
              "      <th>name</th>\n",
              "      <th>age</th>\n",
              "      <th>startYear</th>\n",
              "      <th>primaryTitle</th>\n",
              "      <th>profession</th>\n",
              "    </tr>\n",
              "  </thead>\n",
              "  <tbody>\n",
              "    <tr>\n",
              "      <th>0</th>\n",
              "      <td>nm0000001</td>\n",
              "      <td>Fred Astaire</td>\n",
              "      <td>40</td>\n",
              "      <td>1939</td>\n",
              "      <td>The Story of Vernon and Irene Castle</td>\n",
              "      <td>actor</td>\n",
              "    </tr>\n",
              "    <tr>\n",
              "      <th>1</th>\n",
              "      <td>nm0000001</td>\n",
              "      <td>Fred Astaire</td>\n",
              "      <td>58</td>\n",
              "      <td>1957</td>\n",
              "      <td>Funny Face</td>\n",
              "      <td>actor</td>\n",
              "    </tr>\n",
              "    <tr>\n",
              "      <th>2</th>\n",
              "      <td>nm0000001</td>\n",
              "      <td>Fred Astaire</td>\n",
              "      <td>60</td>\n",
              "      <td>1959</td>\n",
              "      <td>On the Beach</td>\n",
              "      <td>actor</td>\n",
              "    </tr>\n",
              "    <tr>\n",
              "      <th>3</th>\n",
              "      <td>nm0000001</td>\n",
              "      <td>Fred Astaire</td>\n",
              "      <td>75</td>\n",
              "      <td>1974</td>\n",
              "      <td>The Towering Inferno</td>\n",
              "      <td>actor</td>\n",
              "    </tr>\n",
              "    <tr>\n",
              "      <th>4</th>\n",
              "      <td>nm0000002</td>\n",
              "      <td>Lauren Bacall</td>\n",
              "      <td>20</td>\n",
              "      <td>1944</td>\n",
              "      <td>To Have and Have Not</td>\n",
              "      <td>actress</td>\n",
              "    </tr>\n",
              "    <tr>\n",
              "      <th>5</th>\n",
              "      <td>nm0000002</td>\n",
              "      <td>Lauren Bacall</td>\n",
              "      <td>22</td>\n",
              "      <td>1946</td>\n",
              "      <td>The Big Sleep</td>\n",
              "      <td>actress</td>\n",
              "    </tr>\n",
              "    <tr>\n",
              "      <th>6</th>\n",
              "      <td>nm0000002</td>\n",
              "      <td>Lauren Bacall</td>\n",
              "      <td>50</td>\n",
              "      <td>1974</td>\n",
              "      <td>Murder on the Orient Express</td>\n",
              "      <td>actress</td>\n",
              "    </tr>\n",
              "    <tr>\n",
              "      <th>7</th>\n",
              "      <td>nm0000002</td>\n",
              "      <td>Lauren Bacall</td>\n",
              "      <td>72</td>\n",
              "      <td>1996</td>\n",
              "      <td>The Mirror Has Two Faces</td>\n",
              "      <td>actress</td>\n",
              "    </tr>\n",
              "    <tr>\n",
              "      <th>8</th>\n",
              "      <td>nm0000003</td>\n",
              "      <td>Brigitte Bardot</td>\n",
              "      <td>22</td>\n",
              "      <td>1956</td>\n",
              "      <td>...And God Created Woman</td>\n",
              "      <td>actress</td>\n",
              "    </tr>\n",
              "    <tr>\n",
              "      <th>9</th>\n",
              "      <td>nm0000003</td>\n",
              "      <td>Brigitte Bardot</td>\n",
              "      <td>26</td>\n",
              "      <td>1960</td>\n",
              "      <td>La Vérité</td>\n",
              "      <td>actress</td>\n",
              "    </tr>\n",
              "  </tbody>\n",
              "</table>\n",
              "</div>"
            ],
            "text/plain": [
              "      nconst             name  ...                          primaryTitle profession\n",
              "0  nm0000001     Fred Astaire  ...  The Story of Vernon and Irene Castle      actor\n",
              "1  nm0000001     Fred Astaire  ...                            Funny Face      actor\n",
              "2  nm0000001     Fred Astaire  ...                          On the Beach      actor\n",
              "3  nm0000001     Fred Astaire  ...                  The Towering Inferno      actor\n",
              "4  nm0000002    Lauren Bacall  ...                  To Have and Have Not    actress\n",
              "5  nm0000002    Lauren Bacall  ...                         The Big Sleep    actress\n",
              "6  nm0000002    Lauren Bacall  ...          Murder on the Orient Express    actress\n",
              "7  nm0000002    Lauren Bacall  ...              The Mirror Has Two Faces    actress\n",
              "8  nm0000003  Brigitte Bardot  ...              ...And God Created Woman    actress\n",
              "9  nm0000003  Brigitte Bardot  ...                             La Vérité    actress\n",
              "\n",
              "[10 rows x 6 columns]"
            ]
          },
          "metadata": {}
        }
      ]
    },
    {
      "cell_type": "markdown",
      "metadata": {
        "id": "D3-89hQ0D5Fw"
      },
      "source": [
        "###  8 \n",
        "\n",
        "Let's calculate the average age of an actor (actors and actresses) in a movie (the `startYear` for a movie - when an actor was born `birthYear`), for all actors born after 1950. \n",
        "\n"
      ]
    },
    {
      "cell_type": "code",
      "metadata": {
        "id": "8YhOKmsmEC3X",
        "colab": {
          "base_uri": "https://localhost:8080/",
          "height": 878
        },
        "outputId": "5ff56eb9-c5fd-4143-ba80-9b5935a5f7ab"
      },
      "source": [
        "### BEGIN SOLUTION \n",
        "pretty_print_sql(\"\"\"\n",
        "WITH actors AS (\n",
        "    SELECT n.nconst, \n",
        "        n.primaryName AS name, \n",
        "        n.birthYear > 1950 AS born,\n",
        "        ntp.profession\n",
        "    FROM names n, name_to_profession ntp\n",
        "    WHERE \n",
        "        n.nconst = ntp.nconst AND\n",
        "        (ntp.profession = 'actor' OR ntp.profession = 'actress') \n",
        "    )\n",
        "SELECT \n",
        "    a.nconst,\n",
        "    a.name,\n",
        "    AVG(t.startYear - a.born) AS avgAge,\n",
        "    t.startYear,\n",
        "    t.primaryTitle,\n",
        "    a.profession\n",
        "FROM \n",
        "    actors a, \n",
        "    name_to_title nt, \n",
        "    titles t\n",
        "WHERE \n",
        "    a.nconst = nt.nconst AND nt.tconst = t.tconst \n",
        "GROUP BY\n",
        "    primaryTitle;\n",
        "\"\"\")\n",
        "\n",
        "### END SOLUTION "
      ],
      "execution_count": null,
      "outputs": [
        {
          "output_type": "stream",
          "name": "stdout",
          "text": [
            "> \n",
            "WITH actors AS (\n",
            "    SELECT n.nconst, \n",
            "        n.primaryName AS name, \n",
            "        n.birthYear > 1950 AS born,\n",
            "        ntp.profession\n",
            "    FROM names n, name_to_profession ntp\n",
            "    WHERE \n",
            "        n.nconst = ntp.nconst AND\n",
            "        (ntp.profession = 'actor' OR ntp.profession = 'actress') \n",
            "    )\n",
            "SELECT \n",
            "    a.nconst,\n",
            "    a.name,\n",
            "    AVG(t.startYear - a.born) AS avgAge,\n",
            "    t.startYear,\n",
            "    t.primaryTitle,\n",
            "    a.profession\n",
            "FROM \n",
            "    actors a, \n",
            "    name_to_title nt, \n",
            "    titles t\n",
            "WHERE \n",
            "    a.nconst = nt.nconst AND nt.tconst = t.tconst \n",
            "GROUP BY\n",
            "    primaryTitle;\n",
            "\n"
          ]
        },
        {
          "output_type": "display_data",
          "data": {
            "text/html": [
              "<div>\n",
              "<style scoped>\n",
              "    .dataframe tbody tr th:only-of-type {\n",
              "        vertical-align: middle;\n",
              "    }\n",
              "\n",
              "    .dataframe tbody tr th {\n",
              "        vertical-align: top;\n",
              "    }\n",
              "\n",
              "    .dataframe thead th {\n",
              "        text-align: right;\n",
              "    }\n",
              "</style>\n",
              "<table border=\"1\" class=\"dataframe\">\n",
              "  <thead>\n",
              "    <tr style=\"text-align: right;\">\n",
              "      <th></th>\n",
              "      <th>nconst</th>\n",
              "      <th>name</th>\n",
              "      <th>avgAge</th>\n",
              "      <th>startYear</th>\n",
              "      <th>primaryTitle</th>\n",
              "      <th>profession</th>\n",
              "    </tr>\n",
              "  </thead>\n",
              "  <tbody>\n",
              "    <tr>\n",
              "      <th>0</th>\n",
              "      <td>nm6529522</td>\n",
              "      <td>Jaime Szczesny</td>\n",
              "      <td>2012.142857</td>\n",
              "      <td>2014</td>\n",
              "      <td>#</td>\n",
              "      <td>actress</td>\n",
              "    </tr>\n",
              "    <tr>\n",
              "      <th>1</th>\n",
              "      <td>nm10701202</td>\n",
              "      <td>Leila Hazuki</td>\n",
              "      <td>2018.000000</td>\n",
              "      <td>2019</td>\n",
              "      <td># En [Interchange]</td>\n",
              "      <td>actress</td>\n",
              "    </tr>\n",
              "    <tr>\n",
              "      <th>2</th>\n",
              "      <td>nm4671911</td>\n",
              "      <td>Brandon McGuire</td>\n",
              "      <td>1928.240000</td>\n",
              "      <td>2010</td>\n",
              "      <td>#1</td>\n",
              "      <td>actor</td>\n",
              "    </tr>\n",
              "    <tr>\n",
              "      <th>3</th>\n",
              "      <td>nm6358837</td>\n",
              "      <td>Paul Tran</td>\n",
              "      <td>2013.000000</td>\n",
              "      <td>2014</td>\n",
              "      <td>#1 Beauty Nail Salon</td>\n",
              "      <td>actor</td>\n",
              "    </tr>\n",
              "    <tr>\n",
              "      <th>4</th>\n",
              "      <td>nm5424960</td>\n",
              "      <td>Saman Nasir</td>\n",
              "      <td>2009.000000</td>\n",
              "      <td>2010</td>\n",
              "      <td>#1 Cheerleader Camp</td>\n",
              "      <td>actor</td>\n",
              "    </tr>\n",
              "    <tr>\n",
              "      <th>...</th>\n",
              "      <td>...</td>\n",
              "      <td>...</td>\n",
              "      <td>...</td>\n",
              "      <td>...</td>\n",
              "      <td>...</td>\n",
              "      <td>...</td>\n",
              "    </tr>\n",
              "    <tr>\n",
              "      <th>896116</th>\n",
              "      <td>nm5502396</td>\n",
              "      <td>Julia Gögh</td>\n",
              "      <td>2011.000000</td>\n",
              "      <td>2012</td>\n",
              "      <td>üç</td>\n",
              "      <td>actor</td>\n",
              "    </tr>\n",
              "    <tr>\n",
              "      <th>896117</th>\n",
              "      <td>nm7066510</td>\n",
              "      <td>Aleksander Bulatovic</td>\n",
              "      <td>2014.000000</td>\n",
              "      <td>2015</td>\n",
              "      <td>Šiška Deluxe</td>\n",
              "      <td>actor</td>\n",
              "    </tr>\n",
              "    <tr>\n",
              "      <th>896118</th>\n",
              "      <td>nm9609498</td>\n",
              "      <td>Anna Den</td>\n",
              "      <td>2015.000000</td>\n",
              "      <td>2016</td>\n",
              "      <td>ГорбургерШоу</td>\n",
              "      <td>actress</td>\n",
              "    </tr>\n",
              "    <tr>\n",
              "      <th>896119</th>\n",
              "      <td>nm7651335</td>\n",
              "      <td>Neriyus Mankus</td>\n",
              "      <td>2019.000000</td>\n",
              "      <td>2020</td>\n",
              "      <td>Сriminal code article105</td>\n",
              "      <td>actor</td>\n",
              "    </tr>\n",
              "    <tr>\n",
              "      <th>896120</th>\n",
              "      <td>nm5030311</td>\n",
              "      <td>Kallie Tenney</td>\n",
              "      <td>-1.000000</td>\n",
              "      <td>\\N</td>\n",
              "      <td>То, что нас окружает</td>\n",
              "      <td>actress</td>\n",
              "    </tr>\n",
              "  </tbody>\n",
              "</table>\n",
              "<p>896121 rows × 6 columns</p>\n",
              "</div>"
            ],
            "text/plain": [
              "            nconst                  name  ...              primaryTitle profession\n",
              "0        nm6529522        Jaime Szczesny  ...                         #    actress\n",
              "1       nm10701202          Leila Hazuki  ...        # En [Interchange]    actress\n",
              "2        nm4671911       Brandon McGuire  ...                        #1      actor\n",
              "3        nm6358837             Paul Tran  ...      #1 Beauty Nail Salon      actor\n",
              "4        nm5424960           Saman Nasir  ...       #1 Cheerleader Camp      actor\n",
              "...            ...                   ...  ...                       ...        ...\n",
              "896116   nm5502396            Julia Gögh  ...                        üç      actor\n",
              "896117   nm7066510  Aleksander Bulatovic  ...              Šiška Deluxe      actor\n",
              "896118   nm9609498              Anna Den  ...              ГорбургерШоу    actress\n",
              "896119   nm7651335        Neriyus Mankus  ...  Сriminal code article105      actor\n",
              "896120   nm5030311         Kallie Tenney  ...      То, что нас окружает    actress\n",
              "\n",
              "[896121 rows x 6 columns]"
            ]
          },
          "metadata": {}
        }
      ]
    },
    {
      "cell_type": "markdown",
      "metadata": {
        "id": "hBLPtStfMU14"
      },
      "source": [
        "Note, you may get a value that doesn't really make sense.  We will try to fix this in the Bonus Question. "
      ]
    },
    {
      "cell_type": "markdown",
      "metadata": {
        "id": "Xz1sieq5IioL"
      },
      "source": [
        "### 9\n",
        "\n",
        "Let's dive into the results. Because these queries can take a while, let's pull this information from Question 8 into a DataFrame, but returning information like `name`, `age`, `title.startYear`, `t.primaryTitle`.  \n",
        "\n",
        "Use `df = pd.read_sql(\"query\", conn)`"
      ]
    },
    {
      "cell_type": "code",
      "metadata": {
        "id": "ckO8K8KTJJ4U"
      },
      "source": [
        "### BEGIN SOLUTION\n",
        "df = pd.read_sql(\"\"\"\n",
        "SELECT name, age, startYear, primaryTitle\n",
        "FROM\n",
        "(\n",
        " WITH actors AS (\n",
        "    SELECT n.nconst, \n",
        "        n.primaryName AS name, \n",
        "        n.birthYear  AS born,\n",
        "        ntp.profession\n",
        "    FROM names n, name_to_profession ntp\n",
        "    WHERE \n",
        "        n.nconst = ntp.nconst AND\n",
        "        (ntp.profession = 'actor' OR ntp.profession = 'actress') \n",
        "    )\n",
        "SELECT \n",
        "    a.nconst,\n",
        "    a.name,\n",
        "    t.startYear - a.born AS age,\n",
        "    t.startYear,\n",
        "    t.primaryTitle,\n",
        "    a.profession\n",
        "FROM \n",
        "    actors a, \n",
        "    name_to_title nt, \n",
        "    titles t\n",
        "WHERE \n",
        "    a.nconst = nt.nconst AND nt.tconst = t.tconst AND born > 1950\n",
        ")\n",
        "\"\"\", conn)\n",
        "### END SOLUTION "
      ],
      "execution_count": null,
      "outputs": []
    },
    {
      "cell_type": "code",
      "metadata": {
        "colab": {
          "base_uri": "https://localhost:8080/",
          "height": 204
        },
        "id": "AzxEz71eqJu5",
        "outputId": "2877dcc1-e55d-453f-87ac-9d6fd6507fba"
      },
      "source": [
        "df.head(5)"
      ],
      "execution_count": null,
      "outputs": [
        {
          "output_type": "execute_result",
          "data": {
            "text/html": [
              "<div>\n",
              "<style scoped>\n",
              "    .dataframe tbody tr th:only-of-type {\n",
              "        vertical-align: middle;\n",
              "    }\n",
              "\n",
              "    .dataframe tbody tr th {\n",
              "        vertical-align: top;\n",
              "    }\n",
              "\n",
              "    .dataframe thead th {\n",
              "        text-align: right;\n",
              "    }\n",
              "</style>\n",
              "<table border=\"1\" class=\"dataframe\">\n",
              "  <thead>\n",
              "    <tr style=\"text-align: right;\">\n",
              "      <th></th>\n",
              "      <th>name</th>\n",
              "      <th>age</th>\n",
              "      <th>startYear</th>\n",
              "      <th>primaryTitle</th>\n",
              "    </tr>\n",
              "  </thead>\n",
              "  <tbody>\n",
              "    <tr>\n",
              "      <th>0</th>\n",
              "      <td>Margaux Hemingway</td>\n",
              "      <td>22</td>\n",
              "      <td>1976</td>\n",
              "      <td>Lipstick</td>\n",
              "    </tr>\n",
              "    <tr>\n",
              "      <th>1</th>\n",
              "      <td>Margaux Hemingway</td>\n",
              "      <td>25</td>\n",
              "      <td>1979</td>\n",
              "      <td>Killer Fish</td>\n",
              "    </tr>\n",
              "    <tr>\n",
              "      <th>2</th>\n",
              "      <td>Margaux Hemingway</td>\n",
              "      <td>37</td>\n",
              "      <td>1991</td>\n",
              "      <td>Inner Sanctum</td>\n",
              "    </tr>\n",
              "    <tr>\n",
              "      <th>3</th>\n",
              "      <td>Margaux Hemingway</td>\n",
              "      <td>40</td>\n",
              "      <td>1994</td>\n",
              "      <td>Inner Sanctum II</td>\n",
              "    </tr>\n",
              "    <tr>\n",
              "      <th>4</th>\n",
              "      <td>Li Gong</td>\n",
              "      <td>26</td>\n",
              "      <td>1991</td>\n",
              "      <td>Raise the Red Lantern</td>\n",
              "    </tr>\n",
              "  </tbody>\n",
              "</table>\n",
              "</div>"
            ],
            "text/plain": [
              "                name  age startYear           primaryTitle\n",
              "0  Margaux Hemingway   22      1976               Lipstick\n",
              "1  Margaux Hemingway   25      1979            Killer Fish\n",
              "2  Margaux Hemingway   37      1991          Inner Sanctum\n",
              "3  Margaux Hemingway   40      1994       Inner Sanctum II\n",
              "4            Li Gong   26      1991  Raise the Red Lantern"
            ]
          },
          "metadata": {},
          "execution_count": 50
        }
      ]
    },
    {
      "cell_type": "code",
      "metadata": {
        "id": "n6fD8DFqL9EI",
        "colab": {
          "base_uri": "https://localhost:8080/"
        },
        "outputId": "c8fd1bec-bc54-4fe4-873f-274aba547e11"
      },
      "source": [
        "df.age.mean()"
      ],
      "execution_count": null,
      "outputs": [
        {
          "output_type": "execute_result",
          "data": {
            "text/plain": [
              "1767.0893300093817"
            ]
          },
          "metadata": {},
          "execution_count": 51
        }
      ]
    },
    {
      "cell_type": "code",
      "metadata": {
        "id": "WTywcpyEMB0d",
        "colab": {
          "base_uri": "https://localhost:8080/",
          "height": 204
        },
        "outputId": "05d1a3e0-ad2a-453e-b85d-939816f5a71b"
      },
      "source": [
        "df.sort_values(\"age\").head()"
      ],
      "execution_count": null,
      "outputs": [
        {
          "output_type": "execute_result",
          "data": {
            "text/html": [
              "<div>\n",
              "<style scoped>\n",
              "    .dataframe tbody tr th:only-of-type {\n",
              "        vertical-align: middle;\n",
              "    }\n",
              "\n",
              "    .dataframe tbody tr th {\n",
              "        vertical-align: top;\n",
              "    }\n",
              "\n",
              "    .dataframe thead th {\n",
              "        text-align: right;\n",
              "    }\n",
              "</style>\n",
              "<table border=\"1\" class=\"dataframe\">\n",
              "  <thead>\n",
              "    <tr style=\"text-align: right;\">\n",
              "      <th></th>\n",
              "      <th>name</th>\n",
              "      <th>age</th>\n",
              "      <th>startYear</th>\n",
              "      <th>primaryTitle</th>\n",
              "    </tr>\n",
              "  </thead>\n",
              "  <tbody>\n",
              "    <tr>\n",
              "      <th>1201851</th>\n",
              "      <td>Romy Jean Nyman</td>\n",
              "      <td>-2017</td>\n",
              "      <td>\\N</td>\n",
              "      <td>Paradise City</td>\n",
              "    </tr>\n",
              "    <tr>\n",
              "      <th>1201852</th>\n",
              "      <td>Piper Nyman</td>\n",
              "      <td>-2017</td>\n",
              "      <td>\\N</td>\n",
              "      <td>Paradise City</td>\n",
              "    </tr>\n",
              "    <tr>\n",
              "      <th>1606247</th>\n",
              "      <td>Ti Woody Clements</td>\n",
              "      <td>-2016</td>\n",
              "      <td>\\N</td>\n",
              "      <td>Baby Blister</td>\n",
              "    </tr>\n",
              "    <tr>\n",
              "      <th>6369915</th>\n",
              "      <td>Titus Milo Leon</td>\n",
              "      <td>-2014</td>\n",
              "      <td>\\N</td>\n",
              "      <td>Space Opera - The Shade of Human Soul</td>\n",
              "    </tr>\n",
              "    <tr>\n",
              "      <th>6369916</th>\n",
              "      <td>Titus Milo Leon</td>\n",
              "      <td>-2014</td>\n",
              "      <td>\\N</td>\n",
              "      <td>Down Earth</td>\n",
              "    </tr>\n",
              "  </tbody>\n",
              "</table>\n",
              "</div>"
            ],
            "text/plain": [
              "                      name  ...                           primaryTitle\n",
              "1201851    Romy Jean Nyman  ...                          Paradise City\n",
              "1201852        Piper Nyman  ...                          Paradise City\n",
              "1606247  Ti Woody Clements  ...                           Baby Blister\n",
              "6369915    Titus Milo Leon  ...  Space Opera - The Shade of Human Soul\n",
              "6369916    Titus Milo Leon  ...                             Down Earth\n",
              "\n",
              "[5 rows x 4 columns]"
            ]
          },
          "metadata": {},
          "execution_count": 52
        }
      ]
    },
    {
      "cell_type": "markdown",
      "metadata": {
        "id": "K1DP3woHNCmm"
      },
      "source": [
        "Try to solve issues the \"\\N\" missing values. Removes ages < 0, remove movies that were started before 1940 or were started after 2020, remove actors with no birthdate. "
      ]
    },
    {
      "cell_type": "code",
      "metadata": {
        "id": "t5LUA1ml2nAR"
      },
      "source": [
        "### BEGIN SOLUTION\n",
        "df2 = pd.read_sql(\"\"\"\n",
        "SELECT name, age, startYear, primaryTitle\n",
        "FROM\n",
        "(\n",
        " WITH actors AS (\n",
        "    SELECT n.nconst, \n",
        "        n.primaryName AS name, \n",
        "        n.birthYear  AS born,\n",
        "        ntp.profession\n",
        "    FROM names n, name_to_profession ntp\n",
        "    WHERE \n",
        "        n.nconst = ntp.nconst AND\n",
        "        (ntp.profession = 'actor' OR ntp.profession = 'actress') \n",
        "    )\n",
        "SELECT \n",
        "    a.nconst,\n",
        "    a.name,\n",
        "    t.startYear - a.born AS age,\n",
        "    t.startYear,\n",
        "    t.primaryTitle,\n",
        "    a.profession\n",
        "FROM \n",
        "    actors a, \n",
        "    name_to_title nt, \n",
        "    titles t\n",
        "WHERE \n",
        "    a.nconst = nt.nconst AND nt.tconst = t.tconst AND born > 1950 AND age > 0 \n",
        "    AND startYear < 2020 AND startYear > 1940 AND startYear != '\\\\N'\n",
        ")\n",
        "\"\"\", conn)\n",
        "### END SOLUTION"
      ],
      "execution_count": null,
      "outputs": []
    },
    {
      "cell_type": "code",
      "metadata": {
        "id": "rRmDyA7eQlsr"
      },
      "source": [
        "# Filtering dataframe with logical age correlation\n",
        "# Removing any other missing,null values to remove absurd age readings\n",
        "df2 = df2[df2['age'] > 15 ]\n",
        "df2 = df2[df2['age'] < 110 ]"
      ],
      "execution_count": null,
      "outputs": []
    },
    {
      "cell_type": "code",
      "metadata": {
        "id": "_j2O-tNVOvAL",
        "colab": {
          "base_uri": "https://localhost:8080/"
        },
        "outputId": "bb1f4ac7-c251-42a1-cb50-703131fddd34"
      },
      "source": [
        "df2.age.mean()"
      ],
      "execution_count": null,
      "outputs": [
        {
          "output_type": "execute_result",
          "data": {
            "text/plain": [
              "35.61554232628959"
            ]
          },
          "metadata": {},
          "execution_count": 77
        }
      ]
    },
    {
      "cell_type": "code",
      "metadata": {
        "colab": {
          "base_uri": "https://localhost:8080/",
          "height": 419
        },
        "id": "RT_u12hzQaqr",
        "outputId": "fe9b2b9c-d6d7-4156-a28d-0f2e4bd7735f"
      },
      "source": [
        "df2.sort_values(\"age\", ascending=True)"
      ],
      "execution_count": null,
      "outputs": [
        {
          "output_type": "execute_result",
          "data": {
            "text/html": [
              "<div>\n",
              "<style scoped>\n",
              "    .dataframe tbody tr th:only-of-type {\n",
              "        vertical-align: middle;\n",
              "    }\n",
              "\n",
              "    .dataframe tbody tr th {\n",
              "        vertical-align: top;\n",
              "    }\n",
              "\n",
              "    .dataframe thead th {\n",
              "        text-align: right;\n",
              "    }\n",
              "</style>\n",
              "<table border=\"1\" class=\"dataframe\">\n",
              "  <thead>\n",
              "    <tr style=\"text-align: right;\">\n",
              "      <th></th>\n",
              "      <th>name</th>\n",
              "      <th>age</th>\n",
              "      <th>startYear</th>\n",
              "      <th>primaryTitle</th>\n",
              "    </tr>\n",
              "  </thead>\n",
              "  <tbody>\n",
              "    <tr>\n",
              "      <th>546866</th>\n",
              "      <td>Jess Hill</td>\n",
              "      <td>25</td>\n",
              "      <td>1994</td>\n",
              "      <td>Troublemakers</td>\n",
              "    </tr>\n",
              "    <tr>\n",
              "      <th>622321</th>\n",
              "      <td>Melissa Peterman</td>\n",
              "      <td>25</td>\n",
              "      <td>1996</td>\n",
              "      <td>Fargo</td>\n",
              "    </tr>\n",
              "    <tr>\n",
              "      <th>3069780</th>\n",
              "      <td>Bálint Antal</td>\n",
              "      <td>25</td>\n",
              "      <td>2010</td>\n",
              "      <td>Karádysokk</td>\n",
              "    </tr>\n",
              "    <tr>\n",
              "      <th>1785394</th>\n",
              "      <td>Mills Pierre</td>\n",
              "      <td>25</td>\n",
              "      <td>2004</td>\n",
              "      <td>The Raven</td>\n",
              "    </tr>\n",
              "    <tr>\n",
              "      <th>678341</th>\n",
              "      <td>Rupinder Brar</td>\n",
              "      <td>25</td>\n",
              "      <td>2000</td>\n",
              "      <td>X-Men</td>\n",
              "    </tr>\n",
              "    <tr>\n",
              "      <th>...</th>\n",
              "      <td>...</td>\n",
              "      <td>...</td>\n",
              "      <td>...</td>\n",
              "      <td>...</td>\n",
              "    </tr>\n",
              "    <tr>\n",
              "      <th>3464524</th>\n",
              "      <td>Rick Macy</td>\n",
              "      <td>59</td>\n",
              "      <td>2012</td>\n",
              "      <td>The Last Man(s) on Earth</td>\n",
              "    </tr>\n",
              "    <tr>\n",
              "      <th>4015218</th>\n",
              "      <td>Houston Nutt</td>\n",
              "      <td>59</td>\n",
              "      <td>2016</td>\n",
              "      <td>Greater</td>\n",
              "    </tr>\n",
              "    <tr>\n",
              "      <th>4566147</th>\n",
              "      <td>Christopher Baskerville</td>\n",
              "      <td>59</td>\n",
              "      <td>2017</td>\n",
              "      <td>Boar</td>\n",
              "    </tr>\n",
              "    <tr>\n",
              "      <th>5944338</th>\n",
              "      <td>Ulrike Bliefert</td>\n",
              "      <td>59</td>\n",
              "      <td>2010</td>\n",
              "      <td>Der Bulle und das Landei</td>\n",
              "    </tr>\n",
              "    <tr>\n",
              "      <th>5694455</th>\n",
              "      <td>Boris Naujoks</td>\n",
              "      <td>59</td>\n",
              "      <td>2019</td>\n",
              "      <td>Man from Beirut</td>\n",
              "    </tr>\n",
              "  </tbody>\n",
              "</table>\n",
              "<p>415073 rows × 4 columns</p>\n",
              "</div>"
            ],
            "text/plain": [
              "                            name  age startYear              primaryTitle\n",
              "546866                 Jess Hill   25      1994             Troublemakers\n",
              "622321          Melissa Peterman   25      1996                     Fargo\n",
              "3069780             Bálint Antal   25      2010                Karádysokk\n",
              "1785394             Mills Pierre   25      2004                 The Raven\n",
              "678341             Rupinder Brar   25      2000                     X-Men\n",
              "...                          ...  ...       ...                       ...\n",
              "3464524                Rick Macy   59      2012  The Last Man(s) on Earth\n",
              "4015218             Houston Nutt   59      2016                   Greater\n",
              "4566147  Christopher Baskerville   59      2017                      Boar\n",
              "5944338          Ulrike Bliefert   59      2010  Der Bulle und das Landei\n",
              "5694455            Boris Naujoks   59      2019           Man from Beirut\n",
              "\n",
              "[415073 rows x 4 columns]"
            ]
          },
          "metadata": {},
          "execution_count": 78
        }
      ]
    },
    {
      "cell_type": "code",
      "metadata": {
        "id": "M5NRfR_vOzzQ",
        "colab": {
          "base_uri": "https://localhost:8080/",
          "height": 419
        },
        "outputId": "0f75ad39-42ed-4036-8b62-b32d91a3a007"
      },
      "source": [
        "df2.sort_values(\"age\", ascending=False)"
      ],
      "execution_count": null,
      "outputs": [
        {
          "output_type": "execute_result",
          "data": {
            "text/html": [
              "<div>\n",
              "<style scoped>\n",
              "    .dataframe tbody tr th:only-of-type {\n",
              "        vertical-align: middle;\n",
              "    }\n",
              "\n",
              "    .dataframe tbody tr th {\n",
              "        vertical-align: top;\n",
              "    }\n",
              "\n",
              "    .dataframe thead th {\n",
              "        text-align: right;\n",
              "    }\n",
              "</style>\n",
              "<table border=\"1\" class=\"dataframe\">\n",
              "  <thead>\n",
              "    <tr style=\"text-align: right;\">\n",
              "      <th></th>\n",
              "      <th>name</th>\n",
              "      <th>age</th>\n",
              "      <th>startYear</th>\n",
              "      <th>primaryTitle</th>\n",
              "    </tr>\n",
              "  </thead>\n",
              "  <tbody>\n",
              "    <tr>\n",
              "      <th>4948263</th>\n",
              "      <td>Henk Poort</td>\n",
              "      <td>59</td>\n",
              "      <td>2015</td>\n",
              "      <td>Vechtershart</td>\n",
              "    </tr>\n",
              "    <tr>\n",
              "      <th>3457316</th>\n",
              "      <td>E.J. Nolan</td>\n",
              "      <td>59</td>\n",
              "      <td>2012</td>\n",
              "      <td>Revolution</td>\n",
              "    </tr>\n",
              "    <tr>\n",
              "      <th>3464524</th>\n",
              "      <td>Rick Macy</td>\n",
              "      <td>59</td>\n",
              "      <td>2012</td>\n",
              "      <td>The Last Man(s) on Earth</td>\n",
              "    </tr>\n",
              "    <tr>\n",
              "      <th>5391030</th>\n",
              "      <td>Nestor Torres</td>\n",
              "      <td>59</td>\n",
              "      <td>2016</td>\n",
              "      <td>Rosario Tijeras</td>\n",
              "    </tr>\n",
              "    <tr>\n",
              "      <th>5392204</th>\n",
              "      <td>Linda Cohn</td>\n",
              "      <td>59</td>\n",
              "      <td>2018</td>\n",
              "      <td>Creed II</td>\n",
              "    </tr>\n",
              "    <tr>\n",
              "      <th>...</th>\n",
              "      <td>...</td>\n",
              "      <td>...</td>\n",
              "      <td>...</td>\n",
              "      <td>...</td>\n",
              "    </tr>\n",
              "    <tr>\n",
              "      <th>3121019</th>\n",
              "      <td>Christine J Hazard</td>\n",
              "      <td>25</td>\n",
              "      <td>2010</td>\n",
              "      <td>I Owe My Life to Corbin Bleu</td>\n",
              "    </tr>\n",
              "    <tr>\n",
              "      <th>3120917</th>\n",
              "      <td>Diane Guerrero</td>\n",
              "      <td>25</td>\n",
              "      <td>2011</td>\n",
              "      <td>Festival</td>\n",
              "    </tr>\n",
              "    <tr>\n",
              "      <th>497785</th>\n",
              "      <td>James Marshall</td>\n",
              "      <td>25</td>\n",
              "      <td>1992</td>\n",
              "      <td>Twin Peaks: Fire Walk with Me</td>\n",
              "    </tr>\n",
              "    <tr>\n",
              "      <th>2065092</th>\n",
              "      <td>Kaylee DeFer</td>\n",
              "      <td>25</td>\n",
              "      <td>2011</td>\n",
              "      <td>Red State</td>\n",
              "    </tr>\n",
              "    <tr>\n",
              "      <th>4348559</th>\n",
              "      <td>Mai Watanabe</td>\n",
              "      <td>25</td>\n",
              "      <td>2014</td>\n",
              "      <td>Botanical Life of Verandar</td>\n",
              "    </tr>\n",
              "  </tbody>\n",
              "</table>\n",
              "<p>415073 rows × 4 columns</p>\n",
              "</div>"
            ],
            "text/plain": [
              "                       name  age startYear                   primaryTitle\n",
              "4948263          Henk Poort   59      2015                   Vechtershart\n",
              "3457316          E.J. Nolan   59      2012                     Revolution\n",
              "3464524           Rick Macy   59      2012       The Last Man(s) on Earth\n",
              "5391030       Nestor Torres   59      2016                Rosario Tijeras\n",
              "5392204          Linda Cohn   59      2018                       Creed II\n",
              "...                     ...  ...       ...                            ...\n",
              "3121019  Christine J Hazard   25      2010   I Owe My Life to Corbin Bleu\n",
              "3120917      Diane Guerrero   25      2011                       Festival\n",
              "497785       James Marshall   25      1992  Twin Peaks: Fire Walk with Me\n",
              "2065092        Kaylee DeFer   25      2011                      Red State\n",
              "4348559        Mai Watanabe   25      2014     Botanical Life of Verandar\n",
              "\n",
              "[415073 rows x 4 columns]"
            ]
          },
          "metadata": {},
          "execution_count": 79
        }
      ]
    },
    {
      "cell_type": "markdown",
      "metadata": {
        "id": "xmzkTsDNRTgo"
      },
      "source": [
        "Then, create a DataFrame that has for each year of films, the profession ('actor' and 'actress'), the average age of profession, and the number (\"count\") of the profession. \n"
      ]
    },
    {
      "cell_type": "code",
      "metadata": {
        "id": "Zjgrcn6DRNfB"
      },
      "source": [
        "df3 = pd.read_sql(\"\"\"\n",
        "SELECT name, AVG(age), startYear, profession, COUNT(profession)\n",
        "FROM\n",
        "(\n",
        " WITH actors AS (\n",
        "    SELECT n.nconst, \n",
        "        n.primaryName AS name, \n",
        "        n.birthYear  AS born,\n",
        "        ntp.profession\n",
        "    FROM names n, name_to_profession ntp\n",
        "    WHERE \n",
        "        n.nconst = ntp.nconst AND\n",
        "        (ntp.profession = 'actor' OR ntp.profession = 'actress') \n",
        "    )\n",
        "SELECT \n",
        "    a.nconst,\n",
        "    a.name,\n",
        "    t.startYear - a.born AS age,\n",
        "    t.startYear,\n",
        "    t.primaryTitle,\n",
        "    a.profession\n",
        "FROM \n",
        "    actors a, \n",
        "    name_to_title nt, \n",
        "    titles t\n",
        "WHERE \n",
        "    a.nconst = nt.nconst AND nt.tconst = t.tconst AND born > 1950 AND age > 0 AND startYear < 2020 AND startYear > 1940 AND startYear != '\\\\N' AND born != '\\\\N'\n",
        ")\n",
        "GROUP BY startYear\n",
        "\"\"\", conn)\n",
        "### END SOLUTION"
      ],
      "execution_count": null,
      "outputs": []
    },
    {
      "cell_type": "code",
      "metadata": {
        "id": "oL0ff_dJUT0e",
        "colab": {
          "base_uri": "https://localhost:8080/",
          "height": 204
        },
        "outputId": "6c441398-b3dc-438d-9dc8-e5ca094ba305"
      },
      "source": [
        "df3.tail()"
      ],
      "execution_count": null,
      "outputs": [
        {
          "output_type": "execute_result",
          "data": {
            "text/html": [
              "<div>\n",
              "<style scoped>\n",
              "    .dataframe tbody tr th:only-of-type {\n",
              "        vertical-align: middle;\n",
              "    }\n",
              "\n",
              "    .dataframe tbody tr th {\n",
              "        vertical-align: top;\n",
              "    }\n",
              "\n",
              "    .dataframe thead th {\n",
              "        text-align: right;\n",
              "    }\n",
              "</style>\n",
              "<table border=\"1\" class=\"dataframe\">\n",
              "  <thead>\n",
              "    <tr style=\"text-align: right;\">\n",
              "      <th></th>\n",
              "      <th>AVG(age)</th>\n",
              "      <th>startYear</th>\n",
              "      <th>profession</th>\n",
              "      <th>COUNT(profession)</th>\n",
              "    </tr>\n",
              "  </thead>\n",
              "  <tbody>\n",
              "    <tr>\n",
              "      <th>63</th>\n",
              "      <td>35.019823</td>\n",
              "      <td>2015</td>\n",
              "      <td>actress</td>\n",
              "      <td>24618</td>\n",
              "    </tr>\n",
              "    <tr>\n",
              "      <th>64</th>\n",
              "      <td>35.176893</td>\n",
              "      <td>2016</td>\n",
              "      <td>actor</td>\n",
              "      <td>25049</td>\n",
              "    </tr>\n",
              "    <tr>\n",
              "      <th>65</th>\n",
              "      <td>35.607374</td>\n",
              "      <td>2017</td>\n",
              "      <td>actor</td>\n",
              "      <td>23814</td>\n",
              "    </tr>\n",
              "    <tr>\n",
              "      <th>66</th>\n",
              "      <td>36.212733</td>\n",
              "      <td>2018</td>\n",
              "      <td>actress</td>\n",
              "      <td>20890</td>\n",
              "    </tr>\n",
              "    <tr>\n",
              "      <th>67</th>\n",
              "      <td>36.975103</td>\n",
              "      <td>2019</td>\n",
              "      <td>actress</td>\n",
              "      <td>17633</td>\n",
              "    </tr>\n",
              "  </tbody>\n",
              "</table>\n",
              "</div>"
            ],
            "text/plain": [
              "     AVG(age) startYear profession  COUNT(profession)\n",
              "63  35.019823      2015    actress              24618\n",
              "64  35.176893      2016      actor              25049\n",
              "65  35.607374      2017      actor              23814\n",
              "66  36.212733      2018    actress              20890\n",
              "67  36.975103      2019    actress              17633"
            ]
          },
          "metadata": {},
          "execution_count": 60
        }
      ]
    }
  ]
}